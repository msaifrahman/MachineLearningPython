{
  "nbformat": 4,
  "nbformat_minor": 0,
  "metadata": {
    "kernelspec": {
      "name": "python3",
      "display_name": "Python 3"
    },
    "language_info": {
      "pygments_lexer": "ipython3",
      "nbconvert_exporter": "python",
      "version": "3.6.4",
      "file_extension": ".py",
      "codemirror_mode": {
        "name": "ipython",
        "version": 3
      },
      "name": "python",
      "mimetype": "text/x-python"
    },
    "colab": {
      "name": "Copy of Deep Learning project11.ipynb",
      "provenance": [],
      "collapsed_sections": [
        "45laSUBMu6zN"
      ],
      "machine_shape": "hm"
    },
    "accelerator": "TPU"
  },
  "cells": [
    {
      "cell_type": "code",
      "metadata": {
        "id": "J_CSOB2FT44e",
        "colab_type": "code",
        "colab": {}
      },
      "source": [
        ""
      ],
      "execution_count": 0,
      "outputs": []
    },
    {
      "cell_type": "markdown",
      "metadata": {
        "id": "w0i124JIT61g",
        "colab_type": "text"
      },
      "source": [
        "![](https://miro.medium.com/max/1059/1*ZAT-ZZQaX80h-Hl1eJr7bA.png)"
      ]
    },
    {
      "cell_type": "code",
      "metadata": {
        "id": "_30kKIMGwN9K",
        "colab_type": "code",
        "outputId": "f7eedf4d-530a-49ca-9c6c-89d60efc4d48",
        "colab": {
          "base_uri": "https://localhost:8080/",
          "height": 35
        }
      },
      "source": [
        "import tensorflow as tf\n",
        "tf.test.gpu_device_name()"
      ],
      "execution_count": 1,
      "outputs": [
        {
          "output_type": "execute_result",
          "data": {
            "text/plain": [
              "''"
            ]
          },
          "metadata": {
            "tags": []
          },
          "execution_count": 1
        }
      ]
    },
    {
      "cell_type": "code",
      "metadata": {
        "id": "wiAeJ899wTh1",
        "colab_type": "code",
        "colab": {}
      },
      "source": [
        "#!pip install pydrive"
      ],
      "execution_count": 0,
      "outputs": []
    },
    {
      "cell_type": "code",
      "metadata": {
        "id": "j7OLLuYwwXzY",
        "colab_type": "code",
        "outputId": "eef1ac81-3f96-44ca-a888-80eedccb3440",
        "colab": {
          "base_uri": "https://localhost:8080/",
          "height": 35
        }
      },
      "source": [
        "\n",
        "from google.colab import drive\n",
        "drive.mount('/content/gdrive')"
      ],
      "execution_count": 95,
      "outputs": [
        {
          "output_type": "stream",
          "text": [
            "Mounted at /content/gdrive\n"
          ],
          "name": "stdout"
        }
      ]
    },
    {
      "cell_type": "code",
      "metadata": {
        "id": "6Di4YCVNwaet",
        "colab_type": "code",
        "colab": {}
      },
      "source": [
        "from pydrive.auth import GoogleAuth\n",
        "from pydrive.drive import GoogleDrive\n",
        "from google.colab import auth\n",
        "from oauth2client.client import GoogleCredentials"
      ],
      "execution_count": 0,
      "outputs": []
    },
    {
      "cell_type": "code",
      "metadata": {
        "id": "ljj4xYqXweJa",
        "colab_type": "code",
        "colab": {}
      },
      "source": [
        "auth.authenticate_user()\n",
        "gauth = GoogleAuth()\n",
        "gauth.credentials = GoogleCredentials.get_application_default()\n",
        "drive = GoogleDrive(gauth)"
      ],
      "execution_count": 0,
      "outputs": []
    },
    {
      "cell_type": "code",
      "metadata": {
        "id": "U1nMvN7_wgO2",
        "colab_type": "code",
        "colab": {
          "base_uri": "https://localhost:8080/",
          "height": 807
        },
        "outputId": "dcd98b6a-a7cb-48bc-b259-3e9a4d24ad1c"
      },
      "source": [
        "file_list = drive.ListFile({'q': \"'root' in parents and trashed=false\"}).GetList()\n",
        "for file1 in file_list:\n",
        "  print('title: %s, id: %s' % (file1['title'], file1['id']))"
      ],
      "execution_count": 77,
      "outputs": [
        {
          "output_type": "stream",
          "text": [
            "title: model-stackoverflow30sep2.h5, id: 1kg0tskUeHUEAcvSmiFkq06HLfwuqmDFN\n",
            "title: model-stackoverflow30sep1.h5, id: 1-3VXak_lf6J64tTFbCAPV0dp7zv_mmuC\n",
            "title: model-stackoverflow30sep.h5, id: 1-1M2_edH6aZZ8n0v71GknMDmxbjdWoEp\n",
            "title: model1-stackoverflowconv30sept.h5, id: 1MTFLH0-olVy9TgvBzqIIhry6F1hhxyze\n",
            "title: model1-stackoverflowconv.h5, id: 1--DTzgSG5F42zyJvWMFG0K3gsCq_yTYX\n",
            "title: model-stackoverflow.h5, id: 1bnbooJnEcYUwu0MX43wbGR786cJvEY9w\n",
            "title: Questions.csv, id: 1i1w8_iIWJRJQ5mJgKHdfwTMJK48wvD3o\n",
            "title: Tags.csv, id: 1ISMH8qwIa2U-XThdKItf5ulXiYOuYXDh\n",
            "title: StackOverflow, id: 1zyeiLFYyxKQFGclKy_bZkr0dvkJSPjiI\n",
            "title: Resume.pdf, id: 1ZfFJW9JGwAbRrUXT8VnZTmpGanLfJu0R\n",
            "title: cat_dog_sub.zip, id: 1UNlQHo3wllhHls5w_Tq-9ZCg4wRIKawk\n",
            "title: googlespydering.py, id: 1MELP9JDtMvq5bi4iEhRTJ7s6IcpPNlSV\n",
            "title: webscraping, id: 1nINpL3MXFrAsHVbKJVKRi8YRQFP-TtVz\n",
            "title: 8th sem Project, id: 19gldHM3nSSnncBX-40fdrZtIdxFUHeVN\n",
            "title: Saifurrahman.pdf, id: 1aNdla7WSPX3jrY6BNRqjD-g9whHjEzo1\n",
            "title: NATS_ Trainee details_GHT07 (1).xlsx, id: 1G_IFxAL5ysUyVv811bbD-ZCUI59H3HL2\n",
            "title: IMG_20181229_230833.jpg, id: 1zHZcOwiOD2fuSRiSyRD0AKUM1iePMEqO\n",
            "title: test_images.zip, id: 16gNuWK4yeFyaDkK6bN5flkEoqvKUNs32\n",
            "title: quranpara1.pdf, id: 1pmE4dXjV33j0pYRijVTF79hkMSc9QbEg\n",
            "title: IMG_20170704_224232~01.jpg, id: 0B_IiflHWyxKqMTBUempqaGRZTDQ\n",
            "title: resnet50.zip, id: 1-VAu15nOsZ8cK-2Q54IITRw-NRR3i8S1\n",
            "title: originals.zip, id: 1VB4GazOLlQGSmfruuR3lBc3hUKMbm4sm\n",
            "title: train.csv, id: 1pMRE1ePBjzH3bPt1OaVWKF3dmcaQfKlu\n",
            "title: IMG_20181229_230834.jpg, id: 1OsQQ5vp-7rkV9IHnDHU4mYmZE9KX9rVY\n",
            "title: NSR_ecard.pdf, id: 0B_IiflHWyxKqV2VGTDRsQXFrQVU\n",
            "title: sample_submission.csv, id: 1YkAFV8bDM0ngTXxaTm5K_rIOZzsahqjP\n",
            "title: FINAL POSTER.pdf, id: 0B_IiflHWyxKqNVNqWnZKU0RuREk\n",
            "title: poster.png, id: 0B_IiflHWyxKqVUJ1UEg0T2E0MGs\n",
            "title: POSTER.pdf, id: 0B_IiflHWyxKqLUhWckdTRl9yZG8\n",
            "title: darknet, id: 1iD_-tCE16ji7Ws_TTgypCpNU9Qjnrq1u\n",
            "title: vgg16.zip, id: 1XtGi4vPpjlGrw17tIENWKMoqXLse9Rqo\n",
            "title: train_images.zip, id: 1-C_sIE32OZLFSS9jdMJ7ZdYErWV2Pp_7\n",
            "title: Colab Notebooks, id: 1IYjKmh4oJIFrKa0cnEcvrqsPIVR7pFz5\n",
            "title: Untitled folder, id: 1XrsWbzHndgCtldjY-2kf9y4THdPm8lhE\n",
            "title: SmsContactsBackup, id: 1l_3MQp-lB9tKEXxUnDf1Bje1EWGLNh7s\n",
            "title: KMSpico Install, id: 0B_IiflHWyxKqQUJuOFVCNmJ1Nmc\n",
            "title: Books, id: 0B_IiflHWyxKqQ0pTdmxvZUFmd2c\n",
            "title: Techlounge, id: 0B_IiflHWyxKqZ1JuOHB3elRYQU0\n",
            "title: Aspire, id: 0B_IiflHWyxKqMnF6bENFRGJNTlU\n",
            "title: Seminar, id: 0B_IiflHWyxKqNXV4ZmVaM29zM0U\n",
            "title: Aerofoil2_files, id: 0B_IiflHWyxKqVlc3X2N2ME5LeFk\n",
            "title: Solar Notes, id: 0B-Qg9G4V064zb1ZsbTBqTmJBZ0U\n",
            "title: btd, id: 0B_IiflHWyxKqcXppaDZhRk9MYVE\n"
          ],
          "name": "stdout"
        }
      ]
    },
    {
      "cell_type": "code",
      "metadata": {
        "id": "SNixaCE9wisg",
        "colab_type": "code",
        "colab": {}
      },
      "source": [
        "downloaded = drive.CreateFile({'id': '1ISMH8qwIa2U-XThdKItf5ulXiYOuYXDh'})\n",
        "downloaded.GetContentFile('Tags.csv')"
      ],
      "execution_count": 0,
      "outputs": []
    },
    {
      "cell_type": "code",
      "metadata": {
        "id": "SlQiEH6Y2bvT",
        "colab_type": "code",
        "colab": {}
      },
      "source": [
        "downloaded = drive.CreateFile({'id':'1kg0tskUeHUEAcvSmiFkq06HLfwuqmDFN'})\n",
        "downloaded.GetContentFile('model-stackoverflow30sep2.h5')"
      ],
      "execution_count": 0,
      "outputs": []
    },
    {
      "cell_type": "code",
      "metadata": {
        "id": "LSLqCPzwxsko",
        "colab_type": "code",
        "colab": {}
      },
      "source": [
        "downloaded = drive.CreateFile({'id': '1i1w8_iIWJRJQ5mJgKHdfwTMJK48wvD3o'})\n",
        "downloaded.GetContentFile('Questions.csv')"
      ],
      "execution_count": 0,
      "outputs": []
    },
    {
      "cell_type": "code",
      "metadata": {
        "id": "fTvEJkdGwpoR",
        "colab_type": "code",
        "outputId": "c10d2513-b5ce-494f-9682-57117d7108e0",
        "colab": {
          "base_uri": "https://localhost:8080/",
          "height": 146
        }
      },
      "source": [
        "import os\n",
        "os.listdir()"
      ],
      "execution_count": 80,
      "outputs": [
        {
          "output_type": "execute_result",
          "data": {
            "text/plain": [
              "['.config',\n",
              " 'adc.json',\n",
              " 'Questions.csv',\n",
              " 'Tags.csv',\n",
              " 'gdrive',\n",
              " 'model-stackoverflow30sep2.h5',\n",
              " 'sample_data']"
            ]
          },
          "metadata": {
            "tags": []
          },
          "execution_count": 80
        }
      ]
    },
    {
      "cell_type": "markdown",
      "metadata": {
        "id": "mNEBmAnfUMVU",
        "colab_type": "text"
      },
      "source": [
        "## Importing the required Libraries"
      ]
    },
    {
      "cell_type": "code",
      "metadata": {
        "_uuid": "8f2839f25d086af736a60e9eeb907d3b93b6e0e5",
        "_cell_guid": "b1076dfc-b9ad-4769-8c92-a6c4dae69d19",
        "trusted": true,
        "id": "zVzmjqnCu6s_",
        "colab_type": "code",
        "colab": {}
      },
      "source": [
        "import pandas as pd\n",
        "import numpy as np\n",
        "\n",
        "\n",
        "import matplotlib.pyplot as plt\n",
        "import matplotlib.lines as mlines\n",
        "import seaborn as sns\n",
        "\n",
        "import warnings\n",
        "\n",
        "import pickle\n",
        "import time\n",
        "\n",
        "import re\n",
        "from bs4 import BeautifulSoup\n",
        "import nltk\n",
        "from nltk.tokenize import ToktokTokenizer\n",
        "from nltk.stem.wordnet import WordNetLemmatizer\n",
        "from nltk.corpus import stopwords\n",
        "from string import punctuation\n",
        "\n",
        "from sklearn.feature_extraction.text import TfidfVectorizer\n",
        "from sklearn.decomposition import LatentDirichletAllocation\n",
        "from sklearn.preprocessing import MultiLabelBinarizer\n",
        "from sklearn.model_selection import train_test_split\n",
        "from sklearn.model_selection import learning_curve\n",
        "from sklearn.model_selection import ShuffleSplit\n",
        "from sklearn.dummy import DummyClassifier\n",
        "from sklearn.naive_bayes import MultinomialNB\n",
        "from sklearn.linear_model import SGDClassifier\n",
        "from sklearn.linear_model import LogisticRegression\n",
        "from sklearn.multiclass import OneVsRestClassifier\n",
        "from sklearn.svm import LinearSVC\n",
        "from sklearn.linear_model import Perceptron\n",
        "from sklearn.linear_model import PassiveAggressiveClassifier\n",
        "from sklearn.neural_network import MLPClassifier\n",
        "from sklearn.ensemble import RandomForestClassifier\n",
        "from sklearn import model_selection\n",
        "from sklearn.metrics import make_scorer\n",
        "from sklearn.metrics import confusion_matrix\n",
        "from sklearn.metrics import hamming_loss\n",
        "from sklearn.cluster import KMeans\n",
        "\n",
        "from sklearn.utils import class_weight\n",
        "\n",
        "\n",
        "from scipy.sparse import hstack\n",
        "\n",
        "warnings.filterwarnings(\"ignore\")\n",
        "plt.style.use('bmh')\n",
        "%matplotlib inline"
      ],
      "execution_count": 0,
      "outputs": []
    },
    {
      "cell_type": "code",
      "metadata": {
        "_uuid": "d629ff2d2480ee46fbb7e2d37f6b5fab8052498a",
        "_cell_guid": "79c7e3d0-c299-4dcb-8224-4455121ee9b0",
        "trusted": true,
        "id": "dSTMqo1Pu6tP",
        "colab_type": "code",
        "colab": {}
      },
      "source": [
        "labels = pd.read_csv('Tags.csv')"
      ],
      "execution_count": 0,
      "outputs": []
    },
    {
      "cell_type": "code",
      "metadata": {
        "trusted": true,
        "id": "S24Sedeku6tc",
        "colab_type": "code",
        "colab": {}
      },
      "source": [
        "df_questions = pd.read_csv(\"Questions.csv\",encoding='latin1')"
      ],
      "execution_count": 0,
      "outputs": []
    },
    {
      "cell_type": "code",
      "metadata": {
        "trusted": true,
        "id": "ZiwtcOGHu6tm",
        "colab_type": "code",
        "outputId": "7fde04a4-819f-4cfb-d178-0e4a814a5bfc",
        "colab": {
          "base_uri": "https://localhost:8080/",
          "height": 35
        }
      },
      "source": [
        "labels.shape, df_questions.shape"
      ],
      "execution_count": 13,
      "outputs": [
        {
          "output_type": "execute_result",
          "data": {
            "text/plain": [
              "((3750994, 2), (1264216, 7))"
            ]
          },
          "metadata": {
            "tags": []
          },
          "execution_count": 13
        }
      ]
    },
    {
      "cell_type": "code",
      "metadata": {
        "trusted": true,
        "id": "djGIuao1u6tx",
        "colab_type": "code",
        "outputId": "96ff6eb7-da78-48c0-a160-314812ed97ac",
        "colab": {
          "base_uri": "https://localhost:8080/",
          "height": 206
        }
      },
      "source": [
        "labels.head()"
      ],
      "execution_count": 14,
      "outputs": [
        {
          "output_type": "execute_result",
          "data": {
            "text/html": [
              "<div>\n",
              "<style scoped>\n",
              "    .dataframe tbody tr th:only-of-type {\n",
              "        vertical-align: middle;\n",
              "    }\n",
              "\n",
              "    .dataframe tbody tr th {\n",
              "        vertical-align: top;\n",
              "    }\n",
              "\n",
              "    .dataframe thead th {\n",
              "        text-align: right;\n",
              "    }\n",
              "</style>\n",
              "<table border=\"1\" class=\"dataframe\">\n",
              "  <thead>\n",
              "    <tr style=\"text-align: right;\">\n",
              "      <th></th>\n",
              "      <th>Id</th>\n",
              "      <th>Tag</th>\n",
              "    </tr>\n",
              "  </thead>\n",
              "  <tbody>\n",
              "    <tr>\n",
              "      <th>0</th>\n",
              "      <td>80</td>\n",
              "      <td>flex</td>\n",
              "    </tr>\n",
              "    <tr>\n",
              "      <th>1</th>\n",
              "      <td>80</td>\n",
              "      <td>actionscript-3</td>\n",
              "    </tr>\n",
              "    <tr>\n",
              "      <th>2</th>\n",
              "      <td>80</td>\n",
              "      <td>air</td>\n",
              "    </tr>\n",
              "    <tr>\n",
              "      <th>3</th>\n",
              "      <td>90</td>\n",
              "      <td>svn</td>\n",
              "    </tr>\n",
              "    <tr>\n",
              "      <th>4</th>\n",
              "      <td>90</td>\n",
              "      <td>tortoisesvn</td>\n",
              "    </tr>\n",
              "  </tbody>\n",
              "</table>\n",
              "</div>"
            ],
            "text/plain": [
              "   Id             Tag\n",
              "0  80            flex\n",
              "1  80  actionscript-3\n",
              "2  80             air\n",
              "3  90             svn\n",
              "4  90     tortoisesvn"
            ]
          },
          "metadata": {
            "tags": []
          },
          "execution_count": 14
        }
      ]
    },
    {
      "cell_type": "code",
      "metadata": {
        "trusted": true,
        "id": "fMSbrafbu6t6",
        "colab_type": "code",
        "colab": {}
      },
      "source": [
        "x = list(labels['Tag'].value_counts().head(10))"
      ],
      "execution_count": 0,
      "outputs": []
    },
    {
      "cell_type": "code",
      "metadata": {
        "trusted": true,
        "id": "SwQMmidsu6uD",
        "colab_type": "code",
        "colab": {}
      },
      "source": [
        "labels['Tag'] = labels['Tag'].astype(str)"
      ],
      "execution_count": 0,
      "outputs": []
    },
    {
      "cell_type": "markdown",
      "metadata": {
        "id": "lrfTKAkbUcyT",
        "colab_type": "text"
      },
      "source": [
        "# grouping tags with id "
      ]
    },
    {
      "cell_type": "code",
      "metadata": {
        "trusted": true,
        "id": "dmBllOrcu6uJ",
        "colab_type": "code",
        "colab": {}
      },
      "source": [
        "grouped_tags = labels.groupby(\"Id\")['Tag'].apply(lambda tags: ' '.join(tags))"
      ],
      "execution_count": 0,
      "outputs": []
    },
    {
      "cell_type": "code",
      "metadata": {
        "trusted": true,
        "id": "GDdhA07Bu6uS",
        "colab_type": "code",
        "colab": {}
      },
      "source": [
        "grouped_tags = grouped_tags.reset_index()"
      ],
      "execution_count": 0,
      "outputs": []
    },
    {
      "cell_type": "code",
      "metadata": {
        "id": "yxJPWQZB41lw",
        "colab_type": "code",
        "outputId": "d15943a3-771a-451b-edf9-4bc36599f0d4",
        "colab": {
          "base_uri": "https://localhost:8080/",
          "height": 206
        }
      },
      "source": [
        "grouped_tags.head()"
      ],
      "execution_count": 19,
      "outputs": [
        {
          "output_type": "execute_result",
          "data": {
            "text/html": [
              "<div>\n",
              "<style scoped>\n",
              "    .dataframe tbody tr th:only-of-type {\n",
              "        vertical-align: middle;\n",
              "    }\n",
              "\n",
              "    .dataframe tbody tr th {\n",
              "        vertical-align: top;\n",
              "    }\n",
              "\n",
              "    .dataframe thead th {\n",
              "        text-align: right;\n",
              "    }\n",
              "</style>\n",
              "<table border=\"1\" class=\"dataframe\">\n",
              "  <thead>\n",
              "    <tr style=\"text-align: right;\">\n",
              "      <th></th>\n",
              "      <th>Id</th>\n",
              "      <th>Tag</th>\n",
              "    </tr>\n",
              "  </thead>\n",
              "  <tbody>\n",
              "    <tr>\n",
              "      <th>0</th>\n",
              "      <td>80</td>\n",
              "      <td>flex actionscript-3 air</td>\n",
              "    </tr>\n",
              "    <tr>\n",
              "      <th>1</th>\n",
              "      <td>90</td>\n",
              "      <td>svn tortoisesvn branch branching-and-merging</td>\n",
              "    </tr>\n",
              "    <tr>\n",
              "      <th>2</th>\n",
              "      <td>120</td>\n",
              "      <td>sql asp.net sitemap</td>\n",
              "    </tr>\n",
              "    <tr>\n",
              "      <th>3</th>\n",
              "      <td>180</td>\n",
              "      <td>algorithm language-agnostic colors color-space</td>\n",
              "    </tr>\n",
              "    <tr>\n",
              "      <th>4</th>\n",
              "      <td>260</td>\n",
              "      <td>c# .net scripting compiler-construction</td>\n",
              "    </tr>\n",
              "  </tbody>\n",
              "</table>\n",
              "</div>"
            ],
            "text/plain": [
              "    Id                                             Tag\n",
              "0   80                         flex actionscript-3 air\n",
              "1   90    svn tortoisesvn branch branching-and-merging\n",
              "2  120                             sql asp.net sitemap\n",
              "3  180  algorithm language-agnostic colors color-space\n",
              "4  260         c# .net scripting compiler-construction"
            ]
          },
          "metadata": {
            "tags": []
          },
          "execution_count": 19
        }
      ]
    },
    {
      "cell_type": "code",
      "metadata": {
        "trusted": true,
        "id": "j0pk68gEu6uZ",
        "colab_type": "code",
        "colab": {}
      },
      "source": [
        "grouped_tags_final = pd.DataFrame({'Id':grouped_tags.Id, 'Tags':grouped_tags.Tag})"
      ],
      "execution_count": 0,
      "outputs": []
    },
    {
      "cell_type": "code",
      "metadata": {
        "trusted": true,
        "id": "6XZSU4yzu6uk",
        "colab_type": "code",
        "outputId": "e027aabe-d93d-4235-879c-b415f55aeb9e",
        "colab": {
          "base_uri": "https://localhost:8080/",
          "height": 206
        }
      },
      "source": [
        "grouped_tags_final.head(5)"
      ],
      "execution_count": 21,
      "outputs": [
        {
          "output_type": "execute_result",
          "data": {
            "text/html": [
              "<div>\n",
              "<style scoped>\n",
              "    .dataframe tbody tr th:only-of-type {\n",
              "        vertical-align: middle;\n",
              "    }\n",
              "\n",
              "    .dataframe tbody tr th {\n",
              "        vertical-align: top;\n",
              "    }\n",
              "\n",
              "    .dataframe thead th {\n",
              "        text-align: right;\n",
              "    }\n",
              "</style>\n",
              "<table border=\"1\" class=\"dataframe\">\n",
              "  <thead>\n",
              "    <tr style=\"text-align: right;\">\n",
              "      <th></th>\n",
              "      <th>Id</th>\n",
              "      <th>Tags</th>\n",
              "    </tr>\n",
              "  </thead>\n",
              "  <tbody>\n",
              "    <tr>\n",
              "      <th>0</th>\n",
              "      <td>80</td>\n",
              "      <td>flex actionscript-3 air</td>\n",
              "    </tr>\n",
              "    <tr>\n",
              "      <th>1</th>\n",
              "      <td>90</td>\n",
              "      <td>svn tortoisesvn branch branching-and-merging</td>\n",
              "    </tr>\n",
              "    <tr>\n",
              "      <th>2</th>\n",
              "      <td>120</td>\n",
              "      <td>sql asp.net sitemap</td>\n",
              "    </tr>\n",
              "    <tr>\n",
              "      <th>3</th>\n",
              "      <td>180</td>\n",
              "      <td>algorithm language-agnostic colors color-space</td>\n",
              "    </tr>\n",
              "    <tr>\n",
              "      <th>4</th>\n",
              "      <td>260</td>\n",
              "      <td>c# .net scripting compiler-construction</td>\n",
              "    </tr>\n",
              "  </tbody>\n",
              "</table>\n",
              "</div>"
            ],
            "text/plain": [
              "    Id                                            Tags\n",
              "0   80                         flex actionscript-3 air\n",
              "1   90    svn tortoisesvn branch branching-and-merging\n",
              "2  120                             sql asp.net sitemap\n",
              "3  180  algorithm language-agnostic colors color-space\n",
              "4  260         c# .net scripting compiler-construction"
            ]
          },
          "metadata": {
            "tags": []
          },
          "execution_count": 21
        }
      ]
    },
    {
      "cell_type": "markdown",
      "metadata": {
        "id": "7Wpmg496UsuN",
        "colab_type": "text"
      },
      "source": [
        "## drop irrelevant columns"
      ]
    },
    {
      "cell_type": "code",
      "metadata": {
        "trusted": true,
        "id": "SSshCpRVu6uv",
        "colab_type": "code",
        "colab": {}
      },
      "source": [
        "df_questions.drop(columns=['OwnerUserId', 'CreationDate', 'ClosedDate'], inplace=True)"
      ],
      "execution_count": 0,
      "outputs": []
    },
    {
      "cell_type": "code",
      "metadata": {
        "trusted": true,
        "id": "7sviDYrmu6u7",
        "colab_type": "code",
        "colab": {}
      },
      "source": [
        "df_questions = df_questions.merge(grouped_tags_final, on='Id')"
      ],
      "execution_count": 0,
      "outputs": []
    },
    {
      "cell_type": "code",
      "metadata": {
        "trusted": true,
        "id": "2_1Hc5C2u6vF",
        "colab_type": "code",
        "outputId": "485aaa3f-df1b-464d-8445-8aa151143931",
        "colab": {
          "base_uri": "https://localhost:8080/",
          "height": 206
        }
      },
      "source": [
        "df_questions.head()"
      ],
      "execution_count": 24,
      "outputs": [
        {
          "output_type": "execute_result",
          "data": {
            "text/html": [
              "<div>\n",
              "<style scoped>\n",
              "    .dataframe tbody tr th:only-of-type {\n",
              "        vertical-align: middle;\n",
              "    }\n",
              "\n",
              "    .dataframe tbody tr th {\n",
              "        vertical-align: top;\n",
              "    }\n",
              "\n",
              "    .dataframe thead th {\n",
              "        text-align: right;\n",
              "    }\n",
              "</style>\n",
              "<table border=\"1\" class=\"dataframe\">\n",
              "  <thead>\n",
              "    <tr style=\"text-align: right;\">\n",
              "      <th></th>\n",
              "      <th>Id</th>\n",
              "      <th>Score</th>\n",
              "      <th>Title</th>\n",
              "      <th>Body</th>\n",
              "      <th>Tags</th>\n",
              "    </tr>\n",
              "  </thead>\n",
              "  <tbody>\n",
              "    <tr>\n",
              "      <th>0</th>\n",
              "      <td>80</td>\n",
              "      <td>26</td>\n",
              "      <td>SQLStatement.execute() - multiple queries in o...</td>\n",
              "      <td>&lt;p&gt;I've written a database generation script i...</td>\n",
              "      <td>flex actionscript-3 air</td>\n",
              "    </tr>\n",
              "    <tr>\n",
              "      <th>1</th>\n",
              "      <td>90</td>\n",
              "      <td>144</td>\n",
              "      <td>Good branching and merging tutorials for Torto...</td>\n",
              "      <td>&lt;p&gt;Are there any really good tutorials explain...</td>\n",
              "      <td>svn tortoisesvn branch branching-and-merging</td>\n",
              "    </tr>\n",
              "    <tr>\n",
              "      <th>2</th>\n",
              "      <td>120</td>\n",
              "      <td>21</td>\n",
              "      <td>ASP.NET Site Maps</td>\n",
              "      <td>&lt;p&gt;Has anyone got experience creating &lt;strong&gt;...</td>\n",
              "      <td>sql asp.net sitemap</td>\n",
              "    </tr>\n",
              "    <tr>\n",
              "      <th>3</th>\n",
              "      <td>180</td>\n",
              "      <td>53</td>\n",
              "      <td>Function for creating color wheels</td>\n",
              "      <td>&lt;p&gt;This is something I've pseudo-solved many t...</td>\n",
              "      <td>algorithm language-agnostic colors color-space</td>\n",
              "    </tr>\n",
              "    <tr>\n",
              "      <th>4</th>\n",
              "      <td>260</td>\n",
              "      <td>49</td>\n",
              "      <td>Adding scripting functionality to .NET applica...</td>\n",
              "      <td>&lt;p&gt;I have a little game written in C#. It uses...</td>\n",
              "      <td>c# .net scripting compiler-construction</td>\n",
              "    </tr>\n",
              "  </tbody>\n",
              "</table>\n",
              "</div>"
            ],
            "text/plain": [
              "    Id  ...                                            Tags\n",
              "0   80  ...                         flex actionscript-3 air\n",
              "1   90  ...    svn tortoisesvn branch branching-and-merging\n",
              "2  120  ...                             sql asp.net sitemap\n",
              "3  180  ...  algorithm language-agnostic colors color-space\n",
              "4  260  ...         c# .net scripting compiler-construction\n",
              "\n",
              "[5 rows x 5 columns]"
            ]
          },
          "metadata": {
            "tags": []
          },
          "execution_count": 24
        }
      ]
    },
    {
      "cell_type": "code",
      "metadata": {
        "trusted": true,
        "id": "Fa1FSansu6vP",
        "colab_type": "code",
        "colab": {}
      },
      "source": [
        "new_df = df_questions[df_questions['Score']>5]"
      ],
      "execution_count": 0,
      "outputs": []
    },
    {
      "cell_type": "code",
      "metadata": {
        "trusted": true,
        "id": "aKMwI0iEu6vX",
        "colab_type": "code",
        "outputId": "6af15ebe-2c4c-41c6-f553-f0bc001f0103",
        "colab": {
          "base_uri": "https://localhost:8080/",
          "height": 35
        }
      },
      "source": [
        "new_df.shape"
      ],
      "execution_count": 26,
      "outputs": [
        {
          "output_type": "execute_result",
          "data": {
            "text/plain": [
              "(72950, 5)"
            ]
          },
          "metadata": {
            "tags": []
          },
          "execution_count": 26
        }
      ]
    },
    {
      "cell_type": "markdown",
      "metadata": {
        "id": "Wymyc86bU2Uf",
        "colab_type": "text"
      },
      "source": [
        "### Remove duplicate rows"
      ]
    },
    {
      "cell_type": "code",
      "metadata": {
        "trusted": true,
        "id": "VDK_WB7Eu6vk",
        "colab_type": "code",
        "outputId": "983eb196-4c7d-43f0-f4b3-d9a4fcadb2ea",
        "colab": {
          "base_uri": "https://localhost:8080/",
          "height": 35
        }
      },
      "source": [
        "print('Dupplicate entries: {}'.format(new_df.duplicated().sum()))\n",
        "new_df.drop_duplicates(inplace = True)"
      ],
      "execution_count": 27,
      "outputs": [
        {
          "output_type": "stream",
          "text": [
            "Dupplicate entries: 0\n"
          ],
          "name": "stdout"
        }
      ]
    },
    {
      "cell_type": "code",
      "metadata": {
        "trusted": true,
        "id": "xv0ugGMru6vr",
        "colab_type": "code",
        "colab": {}
      },
      "source": [
        "new_df.drop(columns=['Id', 'Score'], inplace=True)"
      ],
      "execution_count": 0,
      "outputs": []
    },
    {
      "cell_type": "code",
      "metadata": {
        "trusted": true,
        "id": "thrRWpBZu6vy",
        "colab_type": "code",
        "colab": {}
      },
      "source": [
        "new_df['Tags'] = new_df['Tags'].apply(lambda x: x.split())"
      ],
      "execution_count": 0,
      "outputs": []
    },
    {
      "cell_type": "code",
      "metadata": {
        "trusted": true,
        "id": "PQUUTjslu6v8",
        "colab_type": "code",
        "outputId": "1b3745d1-65e4-42af-a05a-890f148d85e2",
        "colab": {
          "base_uri": "https://localhost:8080/",
          "height": 206
        }
      },
      "source": [
        "new_df.head()"
      ],
      "execution_count": 30,
      "outputs": [
        {
          "output_type": "execute_result",
          "data": {
            "text/html": [
              "<div>\n",
              "<style scoped>\n",
              "    .dataframe tbody tr th:only-of-type {\n",
              "        vertical-align: middle;\n",
              "    }\n",
              "\n",
              "    .dataframe tbody tr th {\n",
              "        vertical-align: top;\n",
              "    }\n",
              "\n",
              "    .dataframe thead th {\n",
              "        text-align: right;\n",
              "    }\n",
              "</style>\n",
              "<table border=\"1\" class=\"dataframe\">\n",
              "  <thead>\n",
              "    <tr style=\"text-align: right;\">\n",
              "      <th></th>\n",
              "      <th>Title</th>\n",
              "      <th>Body</th>\n",
              "      <th>Tags</th>\n",
              "    </tr>\n",
              "  </thead>\n",
              "  <tbody>\n",
              "    <tr>\n",
              "      <th>0</th>\n",
              "      <td>SQLStatement.execute() - multiple queries in o...</td>\n",
              "      <td>&lt;p&gt;I've written a database generation script i...</td>\n",
              "      <td>[flex, actionscript-3, air]</td>\n",
              "    </tr>\n",
              "    <tr>\n",
              "      <th>1</th>\n",
              "      <td>Good branching and merging tutorials for Torto...</td>\n",
              "      <td>&lt;p&gt;Are there any really good tutorials explain...</td>\n",
              "      <td>[svn, tortoisesvn, branch, branching-and-merging]</td>\n",
              "    </tr>\n",
              "    <tr>\n",
              "      <th>2</th>\n",
              "      <td>ASP.NET Site Maps</td>\n",
              "      <td>&lt;p&gt;Has anyone got experience creating &lt;strong&gt;...</td>\n",
              "      <td>[sql, asp.net, sitemap]</td>\n",
              "    </tr>\n",
              "    <tr>\n",
              "      <th>3</th>\n",
              "      <td>Function for creating color wheels</td>\n",
              "      <td>&lt;p&gt;This is something I've pseudo-solved many t...</td>\n",
              "      <td>[algorithm, language-agnostic, colors, color-s...</td>\n",
              "    </tr>\n",
              "    <tr>\n",
              "      <th>4</th>\n",
              "      <td>Adding scripting functionality to .NET applica...</td>\n",
              "      <td>&lt;p&gt;I have a little game written in C#. It uses...</td>\n",
              "      <td>[c#, .net, scripting, compiler-construction]</td>\n",
              "    </tr>\n",
              "  </tbody>\n",
              "</table>\n",
              "</div>"
            ],
            "text/plain": [
              "                                               Title  ...                                               Tags\n",
              "0  SQLStatement.execute() - multiple queries in o...  ...                        [flex, actionscript-3, air]\n",
              "1  Good branching and merging tutorials for Torto...  ...  [svn, tortoisesvn, branch, branching-and-merging]\n",
              "2                                  ASP.NET Site Maps  ...                            [sql, asp.net, sitemap]\n",
              "3                 Function for creating color wheels  ...  [algorithm, language-agnostic, colors, color-s...\n",
              "4  Adding scripting functionality to .NET applica...  ...       [c#, .net, scripting, compiler-construction]\n",
              "\n",
              "[5 rows x 3 columns]"
            ]
          },
          "metadata": {
            "tags": []
          },
          "execution_count": 30
        }
      ]
    },
    {
      "cell_type": "code",
      "metadata": {
        "trusted": true,
        "id": "CkPuScNwu6wH",
        "colab_type": "code",
        "colab": {}
      },
      "source": [
        "all_tags = [item for sublist in new_df['Tags'].values for item in sublist]"
      ],
      "execution_count": 0,
      "outputs": []
    },
    {
      "cell_type": "code",
      "metadata": {
        "trusted": true,
        "id": "n3RL05ywu6wR",
        "colab_type": "code",
        "outputId": "b9bbec47-3c77-4f9f-8149-e0f906a709e6",
        "colab": {
          "base_uri": "https://localhost:8080/",
          "height": 35
        }
      },
      "source": [
        "len(all_tags)"
      ],
      "execution_count": 32,
      "outputs": [
        {
          "output_type": "execute_result",
          "data": {
            "text/plain": [
              "224129"
            ]
          },
          "metadata": {
            "tags": []
          },
          "execution_count": 32
        }
      ]
    },
    {
      "cell_type": "code",
      "metadata": {
        "trusted": true,
        "id": "goLQ1ywwu6wX",
        "colab_type": "code",
        "outputId": "b80f803b-fec0-4bc9-a114-440ef936daab",
        "colab": {
          "base_uri": "https://localhost:8080/",
          "height": 35
        }
      },
      "source": [
        "my_set = set(all_tags)\n",
        "unique_tags = list(my_set)\n",
        "len(unique_tags)"
      ],
      "execution_count": 33,
      "outputs": [
        {
          "output_type": "execute_result",
          "data": {
            "text/plain": [
              "14883"
            ]
          },
          "metadata": {
            "tags": []
          },
          "execution_count": 33
        }
      ]
    },
    {
      "cell_type": "markdown",
      "metadata": {
        "id": "ndCUmLteVA_w",
        "colab_type": "text"
      },
      "source": [
        "### Reducing the problem to the most common tags in the dataset"
      ]
    },
    {
      "cell_type": "code",
      "metadata": {
        "trusted": true,
        "id": "JFizu7iXu6wg",
        "colab_type": "code",
        "colab": {}
      },
      "source": [
        "import nltk"
      ],
      "execution_count": 0,
      "outputs": []
    },
    {
      "cell_type": "code",
      "metadata": {
        "trusted": true,
        "id": "HnMLQupMu6wl",
        "colab_type": "code",
        "colab": {}
      },
      "source": [
        "flat_list = [item for sublist in new_df['Tags'].values for item in sublist]\n",
        "\n",
        "keywords = nltk.FreqDist(flat_list)\n",
        "\n",
        "keywords = nltk.FreqDist(keywords)\n",
        "\n",
        "frequencies_words = keywords.most_common(100)\n",
        "tags_features = [word[0] for word in frequencies_words]"
      ],
      "execution_count": 0,
      "outputs": []
    },
    {
      "cell_type": "code",
      "metadata": {
        "trusted": true,
        "id": "BGrNm9vQu6wr",
        "colab_type": "code",
        "colab": {}
      },
      "source": [
        "#tags_features"
      ],
      "execution_count": 0,
      "outputs": []
    },
    {
      "cell_type": "code",
      "metadata": {
        "trusted": true,
        "id": "gj-orRuUu6wx",
        "colab_type": "code",
        "colab": {}
      },
      "source": [
        "#fig, ax = plt.subplots(figsize=(15, 10))\n",
        "#keywords.plot(100, cumulative=False)"
      ],
      "execution_count": 0,
      "outputs": []
    },
    {
      "cell_type": "code",
      "metadata": {
        "trusted": true,
        "id": "6wP08av2u6w0",
        "colab_type": "code",
        "colab": {}
      },
      "source": [
        "def most_common(tags):\n",
        "    tags_filtered = []\n",
        "    for i in range(0, len(tags)):\n",
        "        if tags[i] in tags_features:\n",
        "            tags_filtered.append(tags[i])\n",
        "    return tags_filtered"
      ],
      "execution_count": 0,
      "outputs": []
    },
    {
      "cell_type": "code",
      "metadata": {
        "trusted": true,
        "id": "wa0oSN8vu6w-",
        "colab_type": "code",
        "colab": {}
      },
      "source": [
        "new_df['Tags'] = new_df['Tags'].apply(lambda x: most_common(x))\n",
        "new_df['Tags'] = new_df['Tags'].apply(lambda x: x if len(x)>0 else None)"
      ],
      "execution_count": 0,
      "outputs": []
    },
    {
      "cell_type": "code",
      "metadata": {
        "trusted": true,
        "id": "jbxJaFfxu6xF",
        "colab_type": "code",
        "outputId": "9b18433d-f62b-49cf-eeb7-94d650692e26",
        "colab": {
          "base_uri": "https://localhost:8080/",
          "height": 35
        }
      },
      "source": [
        "new_df.shape"
      ],
      "execution_count": 40,
      "outputs": [
        {
          "output_type": "execute_result",
          "data": {
            "text/plain": [
              "(72950, 3)"
            ]
          },
          "metadata": {
            "tags": []
          },
          "execution_count": 40
        }
      ]
    },
    {
      "cell_type": "code",
      "metadata": {
        "trusted": true,
        "id": "Ngq3egOnu6xM",
        "colab_type": "code",
        "outputId": "3f678e44-44c7-4cb4-a9a3-b03580958106",
        "colab": {
          "base_uri": "https://localhost:8080/",
          "height": 206
        }
      },
      "source": [
        "new_df.head()"
      ],
      "execution_count": 41,
      "outputs": [
        {
          "output_type": "execute_result",
          "data": {
            "text/html": [
              "<div>\n",
              "<style scoped>\n",
              "    .dataframe tbody tr th:only-of-type {\n",
              "        vertical-align: middle;\n",
              "    }\n",
              "\n",
              "    .dataframe tbody tr th {\n",
              "        vertical-align: top;\n",
              "    }\n",
              "\n",
              "    .dataframe thead th {\n",
              "        text-align: right;\n",
              "    }\n",
              "</style>\n",
              "<table border=\"1\" class=\"dataframe\">\n",
              "  <thead>\n",
              "    <tr style=\"text-align: right;\">\n",
              "      <th></th>\n",
              "      <th>Title</th>\n",
              "      <th>Body</th>\n",
              "      <th>Tags</th>\n",
              "    </tr>\n",
              "  </thead>\n",
              "  <tbody>\n",
              "    <tr>\n",
              "      <th>0</th>\n",
              "      <td>SQLStatement.execute() - multiple queries in o...</td>\n",
              "      <td>&lt;p&gt;I've written a database generation script i...</td>\n",
              "      <td>None</td>\n",
              "    </tr>\n",
              "    <tr>\n",
              "      <th>1</th>\n",
              "      <td>Good branching and merging tutorials for Torto...</td>\n",
              "      <td>&lt;p&gt;Are there any really good tutorials explain...</td>\n",
              "      <td>[svn]</td>\n",
              "    </tr>\n",
              "    <tr>\n",
              "      <th>2</th>\n",
              "      <td>ASP.NET Site Maps</td>\n",
              "      <td>&lt;p&gt;Has anyone got experience creating &lt;strong&gt;...</td>\n",
              "      <td>[sql, asp.net]</td>\n",
              "    </tr>\n",
              "    <tr>\n",
              "      <th>3</th>\n",
              "      <td>Function for creating color wheels</td>\n",
              "      <td>&lt;p&gt;This is something I've pseudo-solved many t...</td>\n",
              "      <td>[algorithm]</td>\n",
              "    </tr>\n",
              "    <tr>\n",
              "      <th>4</th>\n",
              "      <td>Adding scripting functionality to .NET applica...</td>\n",
              "      <td>&lt;p&gt;I have a little game written in C#. It uses...</td>\n",
              "      <td>[c#, .net]</td>\n",
              "    </tr>\n",
              "  </tbody>\n",
              "</table>\n",
              "</div>"
            ],
            "text/plain": [
              "                                               Title  ...            Tags\n",
              "0  SQLStatement.execute() - multiple queries in o...  ...            None\n",
              "1  Good branching and merging tutorials for Torto...  ...           [svn]\n",
              "2                                  ASP.NET Site Maps  ...  [sql, asp.net]\n",
              "3                 Function for creating color wheels  ...     [algorithm]\n",
              "4  Adding scripting functionality to .NET applica...  ...      [c#, .net]\n",
              "\n",
              "[5 rows x 3 columns]"
            ]
          },
          "metadata": {
            "tags": []
          },
          "execution_count": 41
        }
      ]
    },
    {
      "cell_type": "code",
      "metadata": {
        "trusted": true,
        "id": "ojyVTGH_u6xW",
        "colab_type": "code",
        "colab": {}
      },
      "source": [
        "new_df.dropna(subset=['Tags'], inplace=True)"
      ],
      "execution_count": 0,
      "outputs": []
    },
    {
      "cell_type": "code",
      "metadata": {
        "trusted": true,
        "id": "Ya9yLYrOu6xj",
        "colab_type": "code",
        "outputId": "ed4a7927-1efd-4ae1-efda-80cd625818eb",
        "colab": {
          "base_uri": "https://localhost:8080/",
          "height": 35
        }
      },
      "source": [
        "new_df.shape"
      ],
      "execution_count": 43,
      "outputs": [
        {
          "output_type": "execute_result",
          "data": {
            "text/plain": [
              "(63167, 3)"
            ]
          },
          "metadata": {
            "tags": []
          },
          "execution_count": 43
        }
      ]
    },
    {
      "cell_type": "markdown",
      "metadata": {
        "id": "a9eHFh9-u6xr",
        "colab_type": "text"
      },
      "source": [
        "\n",
        "\n",
        "## In the next two columns: Body and Title, I'll use lots of text processing:\n",
        "\n",
        "    Removing html format\n",
        "    Lowering text\n",
        "    Transforming abbreviations\n",
        "    Removing punctuation (but keeping words like c# since it's the most popular tag)\n",
        "    Lemmatizing words\n",
        "    Removing stop words"
      ]
    },
    {
      "cell_type": "code",
      "metadata": {
        "trusted": true,
        "id": "IN8Gljt9u6xy",
        "colab_type": "code",
        "colab": {}
      },
      "source": [
        "from bs4 import BeautifulSoup\n",
        "import re"
      ],
      "execution_count": 0,
      "outputs": []
    },
    {
      "cell_type": "code",
      "metadata": {
        "trusted": true,
        "id": "7UMnSpW8u6x4",
        "colab_type": "code",
        "colab": {}
      },
      "source": [
        "new_df['Body'] = new_df['Body'].apply(lambda x: BeautifulSoup(x).get_text())"
      ],
      "execution_count": 0,
      "outputs": []
    },
    {
      "cell_type": "code",
      "metadata": {
        "trusted": true,
        "id": "RO2f1fgMu6yB",
        "colab_type": "code",
        "colab": {}
      },
      "source": [
        "def clean_text(text):\n",
        "    text = text.lower()\n",
        "    text = re.sub(r\"what's\", \"what is \", text)\n",
        "    text = re.sub(r\"\\'s\", \" \", text)\n",
        "    text = re.sub(r\"\\'ve\", \" have \", text)\n",
        "    text = re.sub(r\"can't\", \"can not \", text)\n",
        "    text = re.sub(r\"n't\", \" not \", text)\n",
        "    text = re.sub(r\"i'm\", \"i am \", text)\n",
        "    text = re.sub(r\"\\'re\", \" are \", text)\n",
        "    text = re.sub(r\"\\'d\", \" would \", text)\n",
        "    text = re.sub(r\"\\'ll\", \" will \", text)\n",
        "    text = re.sub(r\"\\'scuse\", \" excuse \", text)\n",
        "    text = re.sub(r\"\\'\\n\", \" \", text)\n",
        "    text = re.sub(r\"\\'\\xa0\", \" \", text)\n",
        "    text = re.sub('\\s+', ' ', text)\n",
        "    text = text.strip(' ')\n",
        "    return text"
      ],
      "execution_count": 0,
      "outputs": []
    },
    {
      "cell_type": "code",
      "metadata": {
        "trusted": true,
        "id": "Bgo_T7FPu6yG",
        "colab_type": "code",
        "colab": {}
      },
      "source": [
        "new_df['Body'] = new_df['Body'].apply(lambda x: clean_text(x))"
      ],
      "execution_count": 0,
      "outputs": []
    },
    {
      "cell_type": "code",
      "metadata": {
        "id": "I8UpLxW96Wgd",
        "colab_type": "code",
        "colab": {}
      },
      "source": [
        "token = ToktokTokenizer()"
      ],
      "execution_count": 0,
      "outputs": []
    },
    {
      "cell_type": "code",
      "metadata": {
        "id": "9CsdUgNV6T8C",
        "colab_type": "code",
        "outputId": "2c638f6b-3cd4-4a37-f633-9e9e42007ed6",
        "colab": {
          "base_uri": "https://localhost:8080/",
          "height": 34
        }
      },
      "source": [
        "punctuation"
      ],
      "execution_count": 0,
      "outputs": [
        {
          "output_type": "execute_result",
          "data": {
            "text/plain": [
              "'!\"#$%&\\'()*+,-./:;<=>?@[\\\\]^_`{|}~'"
            ]
          },
          "metadata": {
            "tags": []
          },
          "execution_count": 50
        }
      ]
    },
    {
      "cell_type": "code",
      "metadata": {
        "trusted": true,
        "id": "mJBaeJd9u6yk",
        "colab_type": "code",
        "colab": {}
      },
      "source": [
        "punct = '!\"#$%&\\'()*+,./:;<=>?@[\\\\]^_`{|}~'"
      ],
      "execution_count": 0,
      "outputs": []
    },
    {
      "cell_type": "code",
      "metadata": {
        "trusted": true,
        "id": "5WuXPPXTu6yn",
        "colab_type": "code",
        "colab": {}
      },
      "source": [
        "def strip_list_noempty(mylist):\n",
        "    newlist = (item.strip() if hasattr(item, 'strip') else item for item in mylist)\n",
        "    return [item for item in newlist if item != '']"
      ],
      "execution_count": 0,
      "outputs": []
    },
    {
      "cell_type": "code",
      "metadata": {
        "trusted": true,
        "id": "AnBQBAJ-u6yv",
        "colab_type": "code",
        "colab": {}
      },
      "source": [
        "def clean_punct(text): \n",
        "    words=token.tokenize(text)\n",
        "    punctuation_filtered = []\n",
        "    regex = re.compile('[%s]' % re.escape(punct))\n",
        "    remove_punctuation = str.maketrans(' ', ' ', punct)\n",
        "    for w in words:\n",
        "        if w in tags_features:\n",
        "            punctuation_filtered.append(w)\n",
        "        else:\n",
        "            punctuation_filtered.append(regex.sub('', w))\n",
        "  \n",
        "    filtered_list = strip_list_noempty(punctuation_filtered)\n",
        "        \n",
        "    return ' '.join(map(str, filtered_list))"
      ],
      "execution_count": 0,
      "outputs": []
    },
    {
      "cell_type": "code",
      "metadata": {
        "trusted": true,
        "id": "ZcM0Aifwu6y0",
        "colab_type": "code",
        "colab": {}
      },
      "source": [
        "new_df['Body'] = new_df['Body'].apply(lambda x: clean_punct(x)) "
      ],
      "execution_count": 0,
      "outputs": []
    },
    {
      "cell_type": "code",
      "metadata": {
        "id": "vYkOnnCn0XED",
        "colab_type": "code",
        "colab": {}
      },
      "source": [
        "import nltk\n",
        "from nltk.corpus import stopwords"
      ],
      "execution_count": 0,
      "outputs": []
    },
    {
      "cell_type": "code",
      "metadata": {
        "trusted": true,
        "id": "HJ_BdDozu6y8",
        "colab_type": "code",
        "outputId": "2ce518fd-a1d3-46a6-c777-c2a7610524c3",
        "colab": {
          "base_uri": "https://localhost:8080/",
          "height": 54
        }
      },
      "source": [
        "nltk.download('stopwords')\n",
        "lemma=WordNetLemmatizer()\n",
        "stop_words = set(stopwords.words(\"english\"))"
      ],
      "execution_count": 54,
      "outputs": [
        {
          "output_type": "stream",
          "text": [
            "[nltk_data] Downloading package stopwords to /root/nltk_data...\n",
            "[nltk_data]   Unzipping corpora/stopwords.zip.\n"
          ],
          "name": "stdout"
        }
      ]
    },
    {
      "cell_type": "markdown",
      "metadata": {
        "id": "X9jcK9C0Vc0v",
        "colab_type": "text"
      },
      "source": [
        "### Lemmatization and Stopwords"
      ]
    },
    {
      "cell_type": "code",
      "metadata": {
        "trusted": true,
        "id": "YP8FbUEzu6zE",
        "colab_type": "code",
        "colab": {}
      },
      "source": [
        "def lemitizeWords(text):\n",
        "    words=token.tokenize(text)\n",
        "    listLemma=[]\n",
        "    for w in words:\n",
        "        x=lemma.lemmatize(w, pos=\"v\")\n",
        "        listLemma.append(x)\n",
        "    return ' '.join(map(str, listLemma))\n",
        "\n",
        "def stopWordsRemove(text):\n",
        "    \n",
        "    stop_words = set(stopwords.words(\"english\"))\n",
        "    \n",
        "    words=token.tokenize(text)\n",
        "    \n",
        "    filtered = [w for w in words if not w in stop_words]\n",
        "    \n",
        "    return ' '.join(map(str, filtered))"
      ],
      "execution_count": 0,
      "outputs": []
    },
    {
      "cell_type": "code",
      "metadata": {
        "trusted": true,
        "id": "XtQsXaDMu6zI",
        "colab_type": "code",
        "outputId": "fd1093c7-3370-42ad-b1a3-c569ea28a96c",
        "colab": {
          "base_uri": "https://localhost:8080/",
          "height": 54
        }
      },
      "source": [
        "nltk.download('wordnet')\n",
        "new_df['Body'] = new_df['Body'].apply(lambda x: lemitizeWords(x)) \n",
        "new_df['Body'] = new_df['Body'].apply(lambda x: stopWordsRemove(x)) "
      ],
      "execution_count": 56,
      "outputs": [
        {
          "output_type": "stream",
          "text": [
            "[nltk_data] Downloading package wordnet to /root/nltk_data...\n",
            "[nltk_data]   Unzipping corpora/wordnet.zip.\n"
          ],
          "name": "stdout"
        }
      ]
    },
    {
      "cell_type": "markdown",
      "metadata": {
        "id": "45laSUBMu6zN",
        "colab_type": "text"
      },
      "source": [
        "## DataPreparation for Title"
      ]
    },
    {
      "cell_type": "code",
      "metadata": {
        "trusted": true,
        "id": "uPiHOpTru6zP",
        "colab_type": "code",
        "colab": {}
      },
      "source": [
        "new_df['Title'] = new_df['Title'].apply(lambda x: str(x))\n",
        "new_df['Title'] = new_df['Title'].apply(lambda x: clean_text(x)) \n",
        "new_df['Title'] = new_df['Title'].apply(lambda x: clean_punct(x)) \n",
        "new_df['Title'] = new_df['Title'].apply(lambda x: lemitizeWords(x)) \n",
        "new_df['Title'] = new_df['Title'].apply(lambda x: stopWordsRemove(x)) "
      ],
      "execution_count": 0,
      "outputs": []
    },
    {
      "cell_type": "code",
      "metadata": {
        "trusted": true,
        "id": "OeArO4k1u6zU",
        "colab_type": "code",
        "outputId": "4a38f6ef-9659-45b7-eddd-9e1d83697c7b",
        "colab": {
          "base_uri": "https://localhost:8080/",
          "height": 206
        }
      },
      "source": [
        "new_df.head()"
      ],
      "execution_count": 58,
      "outputs": [
        {
          "output_type": "execute_result",
          "data": {
            "text/html": [
              "<div>\n",
              "<style scoped>\n",
              "    .dataframe tbody tr th:only-of-type {\n",
              "        vertical-align: middle;\n",
              "    }\n",
              "\n",
              "    .dataframe tbody tr th {\n",
              "        vertical-align: top;\n",
              "    }\n",
              "\n",
              "    .dataframe thead th {\n",
              "        text-align: right;\n",
              "    }\n",
              "</style>\n",
              "<table border=\"1\" class=\"dataframe\">\n",
              "  <thead>\n",
              "    <tr style=\"text-align: right;\">\n",
              "      <th></th>\n",
              "      <th>Title</th>\n",
              "      <th>Body</th>\n",
              "      <th>Tags</th>\n",
              "    </tr>\n",
              "  </thead>\n",
              "  <tbody>\n",
              "    <tr>\n",
              "      <th>1</th>\n",
              "      <td>good branch merge tutorials tortoisesvn</td>\n",
              "      <td>really good tutorials explain branch merge apa...</td>\n",
              "      <td>[svn]</td>\n",
              "    </tr>\n",
              "    <tr>\n",
              "      <th>2</th>\n",
              "      <td>asp.net site map</td>\n",
              "      <td>anyone get experience create sql-based asp.net...</td>\n",
              "      <td>[sql, asp.net]</td>\n",
              "    </tr>\n",
              "    <tr>\n",
              "      <th>3</th>\n",
              "      <td>function create color wheel</td>\n",
              "      <td>something pseudo-solved many time never quite ...</td>\n",
              "      <td>[algorithm]</td>\n",
              "    </tr>\n",
              "    <tr>\n",
              "      <th>4</th>\n",
              "      <td>add script functionality .net applications</td>\n",
              "      <td>little game write c use database back-end trad...</td>\n",
              "      <td>[c#, .net]</td>\n",
              "    </tr>\n",
              "    <tr>\n",
              "      <th>5</th>\n",
              "      <td>use nest class case</td>\n",
              "      <td>work collection class use video playback recor...</td>\n",
              "      <td>[c++, oop, class]</td>\n",
              "    </tr>\n",
              "  </tbody>\n",
              "</table>\n",
              "</div>"
            ],
            "text/plain": [
              "                                        Title  ...               Tags\n",
              "1     good branch merge tutorials tortoisesvn  ...              [svn]\n",
              "2                            asp.net site map  ...     [sql, asp.net]\n",
              "3                 function create color wheel  ...        [algorithm]\n",
              "4  add script functionality .net applications  ...         [c#, .net]\n",
              "5                         use nest class case  ...  [c++, oop, class]\n",
              "\n",
              "[5 rows x 3 columns]"
            ]
          },
          "metadata": {
            "tags": []
          },
          "execution_count": 58
        }
      ]
    },
    {
      "cell_type": "markdown",
      "metadata": {
        "id": "q2uqCEcFu6zX",
        "colab_type": "text"
      },
      "source": [
        "## Data preparation for tags"
      ]
    },
    {
      "cell_type": "code",
      "metadata": {
        "trusted": true,
        "id": "RMIGjdbcu6zZ",
        "colab_type": "code",
        "colab": {}
      },
      "source": [
        "X1 = new_df['Body']+' '+new_df['Title']\n",
        "X2 = new_df['Title']\n",
        "y = new_df['Tags']"
      ],
      "execution_count": 0,
      "outputs": []
    },
    {
      "cell_type": "code",
      "metadata": {
        "trusted": true,
        "id": "xGUnVjseu6zc",
        "colab_type": "code",
        "outputId": "415a8b29-8365-4845-8de0-775fba5e0e84",
        "colab": {
          "base_uri": "https://localhost:8080/",
          "height": 55
        }
      },
      "source": [
        "X1[4]"
      ],
      "execution_count": 60,
      "outputs": [
        {
          "output_type": "execute_result",
          "data": {
            "text/plain": [
              "'little game write c use database back-end trade card game want implement function card script mean essentially interface icard card class implement public class card056 icard contain function call game make thing maintainablemoddable would like class card source code database essentially compile first use addchange card add database tell application refresh without need assembly deployment especially since would talk 1 assembly per card mean hundreds assemblies possible register class source file instantiate etc icard card current new mygamecardlibrarycard056 card current onenterplay ref currentgamestate language c# extra bonus possible write script .net language add script functionality .net applications'"
            ]
          },
          "metadata": {
            "tags": []
          },
          "execution_count": 60
        }
      ]
    },
    {
      "cell_type": "code",
      "metadata": {
        "id": "do3Olb8e2UZv",
        "colab_type": "code",
        "outputId": "9773b9b7-88e8-4348-b7aa-48502673a63a",
        "colab": {
          "base_uri": "https://localhost:8080/",
          "height": 35
        }
      },
      "source": [
        "X2[4]"
      ],
      "execution_count": 61,
      "outputs": [
        {
          "output_type": "execute_result",
          "data": {
            "text/plain": [
              "'add script functionality .net applications'"
            ]
          },
          "metadata": {
            "tags": []
          },
          "execution_count": 61
        }
      ]
    },
    {
      "cell_type": "code",
      "metadata": {
        "trusted": true,
        "id": "zhAJ8c_3u6zm",
        "colab_type": "code",
        "colab": {}
      },
      "source": [
        "multilabel_binarizer = MultiLabelBinarizer()\n",
        "y_bin = multilabel_binarizer.fit_transform(y)"
      ],
      "execution_count": 0,
      "outputs": []
    },
    {
      "cell_type": "code",
      "metadata": {
        "trusted": true,
        "id": "O37T8lcXu6zp",
        "colab_type": "code",
        "outputId": "19258fc9-5026-41c4-a583-24c4881b1118",
        "colab": {
          "base_uri": "https://localhost:8080/",
          "height": 35
        }
      },
      "source": [
        "X1.shape"
      ],
      "execution_count": 63,
      "outputs": [
        {
          "output_type": "execute_result",
          "data": {
            "text/plain": [
              "(63167,)"
            ]
          },
          "metadata": {
            "tags": []
          },
          "execution_count": 63
        }
      ]
    },
    {
      "cell_type": "code",
      "metadata": {
        "id": "OdC4ESoGWEGM",
        "colab_type": "code",
        "colab": {}
      },
      "source": [
        ""
      ],
      "execution_count": 0,
      "outputs": []
    },
    {
      "cell_type": "markdown",
      "metadata": {
        "id": "MyL4KeLMWGGK",
        "colab_type": "text"
      },
      "source": [
        "## Creating Features from Text"
      ]
    },
    {
      "cell_type": "code",
      "metadata": {
        "id": "kRHs61HTu6zr",
        "colab_type": "code",
        "colab": {}
      },
      "source": [
        "from keras.preprocessing.sequence import pad_sequences\n",
        "from keras.preprocessing.text import Tokenizer"
      ],
      "execution_count": 0,
      "outputs": []
    },
    {
      "cell_type": "code",
      "metadata": {
        "id": "UHkxnM0b8W4v",
        "colab_type": "code",
        "colab": {}
      },
      "source": [
        "maxlen = 180"
      ],
      "execution_count": 0,
      "outputs": []
    },
    {
      "cell_type": "code",
      "metadata": {
        "trusted": true,
        "id": "eyfefr54u6z6",
        "colab_type": "code",
        "colab": {}
      },
      "source": [
        "\n",
        "max_words = 5000\n",
        "tokenizer = Tokenizer(num_words=max_words, lower=True)\n",
        "tokenizer.fit_on_texts(X1)\n",
        "#tokenizer.fit_on_texts(df_questions.Title)\n",
        "#tokenizer.fit_on_texts(df_questions.Body)\n",
        "\n",
        "def get_features(text_series):\n",
        "    \"\"\"\n",
        "    transforms text data to feature_vectors that can be used in the ml model.\n",
        "    tokenizer must be available.\n",
        "    \"\"\"\n",
        "    sequences = tokenizer.texts_to_sequences(text_series)\n",
        "    return pad_sequences(sequences, maxlen=maxlen)\n"
      ],
      "execution_count": 0,
      "outputs": []
    },
    {
      "cell_type": "code",
      "metadata": {
        "id": "BpPDeAbizqeH",
        "colab_type": "code",
        "colab": {}
      },
      "source": [
        "def prediction_to_label(prediction):\n",
        "    tag_prob = [(tags_features[i], prob) for i, prob in enumerate(prediction.tolist())]\n",
        "    return dict(sorted(tag_prob, key=lambda kv: kv[1], reverse=True))"
      ],
      "execution_count": 0,
      "outputs": []
    },
    {
      "cell_type": "code",
      "metadata": {
        "trusted": true,
        "id": "ZrTYMdtCu60E",
        "colab_type": "code",
        "colab": {}
      },
      "source": [
        "x1 = get_features(X1)\n",
        "#x2 = get_features(X2)"
      ],
      "execution_count": 0,
      "outputs": []
    },
    {
      "cell_type": "code",
      "metadata": {
        "id": "0RJnlrHXJR_3",
        "colab_type": "code",
        "outputId": "8697889d-38b6-4af2-9313-e7697644f391",
        "colab": {
          "base_uri": "https://localhost:8080/",
          "height": 35
        }
      },
      "source": [
        "x1.shape"
      ],
      "execution_count": 69,
      "outputs": [
        {
          "output_type": "execute_result",
          "data": {
            "text/plain": [
              "(63167, 180)"
            ]
          },
          "metadata": {
            "tags": []
          },
          "execution_count": 69
        }
      ]
    },
    {
      "cell_type": "code",
      "metadata": {
        "trusted": true,
        "id": "5FxKLNr7u60I",
        "colab_type": "code",
        "colab": {}
      },
      "source": [
        "#X_tfidf = np.concatenate((x1, x2), axis=1)"
      ],
      "execution_count": 0,
      "outputs": []
    },
    {
      "cell_type": "code",
      "metadata": {
        "id": "wqn_x2-wKjiH",
        "colab_type": "code",
        "colab": {}
      },
      "source": [
        "#X_tfidf.shape"
      ],
      "execution_count": 0,
      "outputs": []
    },
    {
      "cell_type": "code",
      "metadata": {
        "id": "RBuh3pYDMF_W",
        "colab_type": "code",
        "outputId": "d691298a-392f-4e17-9289-fca33689166a",
        "colab": {
          "base_uri": "https://localhost:8080/",
          "height": 35
        }
      },
      "source": [
        "y_bin.shape"
      ],
      "execution_count": 70,
      "outputs": [
        {
          "output_type": "execute_result",
          "data": {
            "text/plain": [
              "(63167, 100)"
            ]
          },
          "metadata": {
            "tags": []
          },
          "execution_count": 70
        }
      ]
    },
    {
      "cell_type": "code",
      "metadata": {
        "trusted": true,
        "id": "GAPjbOGju60M",
        "colab_type": "code",
        "colab": {}
      },
      "source": [
        "X_train, X_test, y_train, y_test = train_test_split(x1, y_bin, test_size = 0.1, \n",
        "                                                    random_state = 0) \n"
      ],
      "execution_count": 0,
      "outputs": []
    },
    {
      "cell_type": "code",
      "metadata": {
        "id": "y7Y0-T9wWM7S",
        "colab_type": "code",
        "colab": {}
      },
      "source": [
        ""
      ],
      "execution_count": 0,
      "outputs": []
    },
    {
      "cell_type": "markdown",
      "metadata": {
        "id": "FiszSSX6WNtP",
        "colab_type": "text"
      },
      "source": [
        "## Evaluation metrics Average Jacard loss"
      ]
    },
    {
      "cell_type": "code",
      "metadata": {
        "trusted": true,
        "id": "Lu5suv_6u60Q",
        "colab_type": "code",
        "colab": {}
      },
      "source": [
        "def avg_jacard(y_true,y_pred):\n",
        "    '''\n",
        "    see https://en.wikipedia.org/wiki/Multi-label_classification#Statistics_and_evaluation_metrics\n",
        "    '''\n",
        "    jacard = np.minimum(y_true,y_pred).sum(axis=1) / np.maximum(y_true,y_pred).sum(axis=1)\n",
        "    \n",
        "    return jacard.mean()*100\n",
        "\n",
        "def print_score(y_pred, clf):\n",
        "    print(\"Clf: \", clf.__class__.__name__)\n",
        "    print(\"Jacard score: {}\".format(avg_jacard(y_test, y_pred)))\n",
        "    print(\"Hamming loss: {}\".format(hamming_loss(y_pred, y_test)*100))\n",
        "    print(\"---\")    "
      ],
      "execution_count": 0,
      "outputs": []
    },
    {
      "cell_type": "code",
      "metadata": {
        "id": "cEkvwwNDPTnO",
        "colab_type": "code",
        "outputId": "9ab4d2c3-8363-4fd0-f9c2-5e068b54a62b",
        "colab": {
          "base_uri": "https://localhost:8080/",
          "height": 35
        }
      },
      "source": [
        "len(flat_list), len(set(flat_list))"
      ],
      "execution_count": 73,
      "outputs": [
        {
          "output_type": "execute_result",
          "data": {
            "text/plain": [
              "(224129, 14883)"
            ]
          },
          "metadata": {
            "tags": []
          },
          "execution_count": 73
        }
      ]
    },
    {
      "cell_type": "code",
      "metadata": {
        "id": "c3uYgMr50qHt",
        "colab_type": "code",
        "colab": {}
      },
      "source": [
        "#[(x,flat_list.count(x)) for x in tags_features]"
      ],
      "execution_count": 0,
      "outputs": []
    },
    {
      "cell_type": "code",
      "metadata": {
        "id": "vPJGD0bmWt4O",
        "colab_type": "code",
        "colab": {}
      },
      "source": [
        ""
      ],
      "execution_count": 0,
      "outputs": []
    },
    {
      "cell_type": "markdown",
      "metadata": {
        "id": "aZvjsQUZWuho",
        "colab_type": "text"
      },
      "source": [
        "## Calculating weights for labels"
      ]
    },
    {
      "cell_type": "code",
      "metadata": {
        "trusted": true,
        "id": "hMXB3rA6u60V",
        "colab_type": "code",
        "colab": {}
      },
      "source": [
        "class_weight = class_weight.compute_class_weight('balanced', tags_features, [i for i in flat_list if i in tags_features])\n",
        "class_weight_dict = dict(enumerate(class_weight))\n"
      ],
      "execution_count": 0,
      "outputs": []
    },
    {
      "cell_type": "code",
      "metadata": {
        "id": "l3zmzoNnWy4c",
        "colab_type": "code",
        "colab": {}
      },
      "source": [
        ""
      ],
      "execution_count": 0,
      "outputs": []
    },
    {
      "cell_type": "markdown",
      "metadata": {
        "id": "XnUfn4odWzvn",
        "colab_type": "text"
      },
      "source": [
        "## Keras Model"
      ]
    },
    {
      "cell_type": "code",
      "metadata": {
        "trusted": true,
        "id": "lIIgs8OQu60Y",
        "colab_type": "code",
        "colab": {}
      },
      "source": [
        "from keras.models import Sequential\n",
        "from keras.layers import Dense, Activation, Embedding, Flatten, GlobalMaxPool1D, Dropout, Conv1D\n",
        "from keras.layers import LSTM, Activation, Dense, Dropout, Input, Embedding\n",
        "from keras.callbacks import ReduceLROnPlateau, EarlyStopping, ModelCheckpoint\n",
        "from keras.losses import binary_crossentropy\n",
        "from keras.optimizers import Adam\n",
        "from keras.models import Model\n",
        "\n",
        "filter_length = 300\n",
        "max_len = 180\n",
        "\n",
        "def RNN():\n",
        "    inputs = Input(name='inputs', shape=[max_len])\n",
        "    layer = Embedding(max_words, 30, input_length=max_len)(inputs)\n",
        "    layer = LSTM(300)(layer)\n",
        "    layer = Dense(500, name='FC1')(layer)\n",
        "    layer = Activation('relu')(layer)\n",
        "    layer = Dropout(0.2)(layer)\n",
        "    layer = Dense(200, name='FC2')(layer)\n",
        "    layer = Activation('relu')(layer)\n",
        "    layer = Dropout(0.2)(layer)\n",
        "    layer = Dense(100, name='out_layer')(layer)\n",
        "    layer = Activation('sigmoid')(layer)\n",
        "    model = Model(inputs=inputs, outputs=layer)\n",
        "    return model\n",
        "  \n",
        "model = RNN()\n",
        "model.compile(optimizer='adam', loss='binary_crossentropy', metrics=['accuracy'])\n",
        "#model.summary()\n",
        "\n"
      ],
      "execution_count": 0,
      "outputs": []
    },
    {
      "cell_type": "code",
      "metadata": {
        "id": "VMhMVDa3Q_Bk",
        "colab_type": "code",
        "outputId": "6a7e9d3e-ae6a-491d-c27f-4ec5aa1d95db",
        "colab": {
          "base_uri": "https://localhost:8080/",
          "height": 914
        }
      },
      "source": [
        "import time\n",
        "\n",
        "filepath = '/content/gdrive/My Drive/model-stackoverflow.h5'\n",
        "callbacks = [\n",
        "    ReduceLROnPlateau(), \n",
        "    EarlyStopping(patience=4), \n",
        "    ModelCheckpoint(filepath, monitor='val_acc', verbose=1, \n",
        "                    save_weights_only=True, \n",
        "                    mode='auto', period=10, save_best_only=False)\n",
        "            ]\n",
        "\n",
        "history = model.fit(X_train, y_train,\n",
        "                    class_weight=class_weight,\n",
        "                    epochs=12,\n",
        "                    batch_size=30,\n",
        "                    validation_split=0.1,\n",
        "                    callbacks=callbacks)"
      ],
      "execution_count": 93,
      "outputs": [
        {
          "output_type": "stream",
          "text": [
            "Train on 51165 samples, validate on 5685 samples\n",
            "Epoch 1/12\n",
            "51165/51165 [==============================] - 1189s 23ms/step - loss: 0.0773 - acc: 0.9829 - val_loss: 0.0662 - val_acc: 0.9847\n",
            "Epoch 2/12\n",
            "51165/51165 [==============================] - 1346s 26ms/step - loss: 0.0559 - acc: 0.9856 - val_loss: 0.0447 - val_acc: 0.9870\n",
            "Epoch 3/12\n",
            "51165/51165 [==============================] - 1225s 24ms/step - loss: 0.0412 - acc: 0.9879 - val_loss: 0.0364 - val_acc: 0.9887\n",
            "Epoch 4/12\n",
            "51165/51165 [==============================] - 1267s 25ms/step - loss: 0.0351 - acc: 0.9892 - val_loss: 0.0333 - val_acc: 0.9900\n",
            "Epoch 5/12\n",
            "51165/51165 [==============================] - 1155s 23ms/step - loss: 0.0319 - acc: 0.9901 - val_loss: 0.0312 - val_acc: 0.9903\n",
            "Epoch 6/12\n",
            "51165/51165 [==============================] - 1206s 24ms/step - loss: 0.0297 - acc: 0.9906 - val_loss: 0.0308 - val_acc: 0.9904\n",
            "Epoch 7/12\n",
            "51165/51165 [==============================] - 1166s 23ms/step - loss: 0.0280 - acc: 0.9910 - val_loss: 0.0298 - val_acc: 0.9907\n",
            "Epoch 8/12\n",
            "51165/51165 [==============================] - 1220s 24ms/step - loss: 0.0266 - acc: 0.9913 - val_loss: 0.0296 - val_acc: 0.9908\n",
            "Epoch 9/12\n",
            "51165/51165 [==============================] - 1188s 23ms/step - loss: 0.0253 - acc: 0.9915 - val_loss: 0.0294 - val_acc: 0.9908\n",
            "Epoch 10/12\n",
            "51165/51165 [==============================] - 766s 15ms/step - loss: 0.0242 - acc: 0.9918 - val_loss: 0.0293 - val_acc: 0.9908\n",
            "\n",
            "Epoch 00010: saving model to /content/gdrive/My Drive/h\n"
          ],
          "name": "stdout"
        },
        {
          "output_type": "error",
          "ename": "OSError",
          "evalue": "ignored",
          "traceback": [
            "\u001b[0;31m---------------------------------------------------------------------------\u001b[0m",
            "\u001b[0;31mOSError\u001b[0m                                   Traceback (most recent call last)",
            "\u001b[0;32m<ipython-input-93-41fb55fb24dd>\u001b[0m in \u001b[0;36m<module>\u001b[0;34m()\u001b[0m\n\u001b[1;32m     15\u001b[0m                     \u001b[0mbatch_size\u001b[0m\u001b[0;34m=\u001b[0m\u001b[0;36m30\u001b[0m\u001b[0;34m,\u001b[0m\u001b[0;34m\u001b[0m\u001b[0;34m\u001b[0m\u001b[0m\n\u001b[1;32m     16\u001b[0m                     \u001b[0mvalidation_split\u001b[0m\u001b[0;34m=\u001b[0m\u001b[0;36m0.1\u001b[0m\u001b[0;34m,\u001b[0m\u001b[0;34m\u001b[0m\u001b[0;34m\u001b[0m\u001b[0m\n\u001b[0;32m---> 17\u001b[0;31m                     callbacks=callbacks)\n\u001b[0m",
            "\u001b[0;32m/usr/local/lib/python3.6/dist-packages/keras/engine/training.py\u001b[0m in \u001b[0;36mfit\u001b[0;34m(self, x, y, batch_size, epochs, verbose, callbacks, validation_split, validation_data, shuffle, class_weight, sample_weight, initial_epoch, steps_per_epoch, validation_steps, validation_freq, max_queue_size, workers, use_multiprocessing, **kwargs)\u001b[0m\n\u001b[1;32m   1176\u001b[0m                                         \u001b[0msteps_per_epoch\u001b[0m\u001b[0;34m=\u001b[0m\u001b[0msteps_per_epoch\u001b[0m\u001b[0;34m,\u001b[0m\u001b[0;34m\u001b[0m\u001b[0;34m\u001b[0m\u001b[0m\n\u001b[1;32m   1177\u001b[0m                                         \u001b[0mvalidation_steps\u001b[0m\u001b[0;34m=\u001b[0m\u001b[0mvalidation_steps\u001b[0m\u001b[0;34m,\u001b[0m\u001b[0;34m\u001b[0m\u001b[0;34m\u001b[0m\u001b[0m\n\u001b[0;32m-> 1178\u001b[0;31m                                         validation_freq=validation_freq)\n\u001b[0m\u001b[1;32m   1179\u001b[0m \u001b[0;34m\u001b[0m\u001b[0m\n\u001b[1;32m   1180\u001b[0m     def evaluate(self,\n",
            "\u001b[0;32m/usr/local/lib/python3.6/dist-packages/keras/engine/training_arrays.py\u001b[0m in \u001b[0;36mfit_loop\u001b[0;34m(model, fit_function, fit_inputs, out_labels, batch_size, epochs, verbose, callbacks, val_function, val_inputs, shuffle, callback_metrics, initial_epoch, steps_per_epoch, validation_steps, validation_freq)\u001b[0m\n\u001b[1;32m    222\u001b[0m                         \u001b[0mepoch_logs\u001b[0m\u001b[0;34m[\u001b[0m\u001b[0;34m'val_'\u001b[0m \u001b[0;34m+\u001b[0m \u001b[0ml\u001b[0m\u001b[0;34m]\u001b[0m \u001b[0;34m=\u001b[0m \u001b[0mo\u001b[0m\u001b[0;34m\u001b[0m\u001b[0;34m\u001b[0m\u001b[0m\n\u001b[1;32m    223\u001b[0m \u001b[0;34m\u001b[0m\u001b[0m\n\u001b[0;32m--> 224\u001b[0;31m         \u001b[0mcallbacks\u001b[0m\u001b[0;34m.\u001b[0m\u001b[0mon_epoch_end\u001b[0m\u001b[0;34m(\u001b[0m\u001b[0mepoch\u001b[0m\u001b[0;34m,\u001b[0m \u001b[0mepoch_logs\u001b[0m\u001b[0;34m)\u001b[0m\u001b[0;34m\u001b[0m\u001b[0;34m\u001b[0m\u001b[0m\n\u001b[0m\u001b[1;32m    225\u001b[0m         \u001b[0;32mif\u001b[0m \u001b[0mcallbacks\u001b[0m\u001b[0;34m.\u001b[0m\u001b[0mmodel\u001b[0m\u001b[0;34m.\u001b[0m\u001b[0mstop_training\u001b[0m\u001b[0;34m:\u001b[0m\u001b[0;34m\u001b[0m\u001b[0;34m\u001b[0m\u001b[0m\n\u001b[1;32m    226\u001b[0m             \u001b[0;32mbreak\u001b[0m\u001b[0;34m\u001b[0m\u001b[0;34m\u001b[0m\u001b[0m\n",
            "\u001b[0;32m/usr/local/lib/python3.6/dist-packages/keras/callbacks.py\u001b[0m in \u001b[0;36mon_epoch_end\u001b[0;34m(self, epoch, logs)\u001b[0m\n\u001b[1;32m    150\u001b[0m         \u001b[0mlogs\u001b[0m \u001b[0;34m=\u001b[0m \u001b[0mlogs\u001b[0m \u001b[0;32mor\u001b[0m \u001b[0;34m{\u001b[0m\u001b[0;34m}\u001b[0m\u001b[0;34m\u001b[0m\u001b[0;34m\u001b[0m\u001b[0m\n\u001b[1;32m    151\u001b[0m         \u001b[0;32mfor\u001b[0m \u001b[0mcallback\u001b[0m \u001b[0;32min\u001b[0m \u001b[0mself\u001b[0m\u001b[0;34m.\u001b[0m\u001b[0mcallbacks\u001b[0m\u001b[0;34m:\u001b[0m\u001b[0;34m\u001b[0m\u001b[0;34m\u001b[0m\u001b[0m\n\u001b[0;32m--> 152\u001b[0;31m             \u001b[0mcallback\u001b[0m\u001b[0;34m.\u001b[0m\u001b[0mon_epoch_end\u001b[0m\u001b[0;34m(\u001b[0m\u001b[0mepoch\u001b[0m\u001b[0;34m,\u001b[0m \u001b[0mlogs\u001b[0m\u001b[0;34m)\u001b[0m\u001b[0;34m\u001b[0m\u001b[0;34m\u001b[0m\u001b[0m\n\u001b[0m\u001b[1;32m    153\u001b[0m \u001b[0;34m\u001b[0m\u001b[0m\n\u001b[1;32m    154\u001b[0m     \u001b[0;32mdef\u001b[0m \u001b[0mon_train_batch_begin\u001b[0m\u001b[0;34m(\u001b[0m\u001b[0mself\u001b[0m\u001b[0;34m,\u001b[0m \u001b[0mbatch\u001b[0m\u001b[0;34m,\u001b[0m \u001b[0mlogs\u001b[0m\u001b[0;34m=\u001b[0m\u001b[0;32mNone\u001b[0m\u001b[0;34m)\u001b[0m\u001b[0;34m:\u001b[0m\u001b[0;34m\u001b[0m\u001b[0;34m\u001b[0m\u001b[0m\n",
            "\u001b[0;32m/usr/local/lib/python3.6/dist-packages/keras/callbacks.py\u001b[0m in \u001b[0;36mon_epoch_end\u001b[0;34m(self, epoch, logs)\u001b[0m\n\u001b[1;32m    726\u001b[0m                     \u001b[0mprint\u001b[0m\u001b[0;34m(\u001b[0m\u001b[0;34m'\\nEpoch %05d: saving model to %s'\u001b[0m \u001b[0;34m%\u001b[0m \u001b[0;34m(\u001b[0m\u001b[0mepoch\u001b[0m \u001b[0;34m+\u001b[0m \u001b[0;36m1\u001b[0m\u001b[0;34m,\u001b[0m \u001b[0mfilepath\u001b[0m\u001b[0;34m)\u001b[0m\u001b[0;34m)\u001b[0m\u001b[0;34m\u001b[0m\u001b[0;34m\u001b[0m\u001b[0m\n\u001b[1;32m    727\u001b[0m                 \u001b[0;32mif\u001b[0m \u001b[0mself\u001b[0m\u001b[0;34m.\u001b[0m\u001b[0msave_weights_only\u001b[0m\u001b[0;34m:\u001b[0m\u001b[0;34m\u001b[0m\u001b[0;34m\u001b[0m\u001b[0m\n\u001b[0;32m--> 728\u001b[0;31m                     \u001b[0mself\u001b[0m\u001b[0;34m.\u001b[0m\u001b[0mmodel\u001b[0m\u001b[0;34m.\u001b[0m\u001b[0msave_weights\u001b[0m\u001b[0;34m(\u001b[0m\u001b[0mfilepath\u001b[0m\u001b[0;34m,\u001b[0m \u001b[0moverwrite\u001b[0m\u001b[0;34m=\u001b[0m\u001b[0;32mTrue\u001b[0m\u001b[0;34m)\u001b[0m\u001b[0;34m\u001b[0m\u001b[0;34m\u001b[0m\u001b[0m\n\u001b[0m\u001b[1;32m    729\u001b[0m                 \u001b[0;32melse\u001b[0m\u001b[0;34m:\u001b[0m\u001b[0;34m\u001b[0m\u001b[0;34m\u001b[0m\u001b[0m\n\u001b[1;32m    730\u001b[0m                     \u001b[0mself\u001b[0m\u001b[0;34m.\u001b[0m\u001b[0mmodel\u001b[0m\u001b[0;34m.\u001b[0m\u001b[0msave\u001b[0m\u001b[0;34m(\u001b[0m\u001b[0mfilepath\u001b[0m\u001b[0;34m,\u001b[0m \u001b[0moverwrite\u001b[0m\u001b[0;34m=\u001b[0m\u001b[0;32mTrue\u001b[0m\u001b[0;34m)\u001b[0m\u001b[0;34m\u001b[0m\u001b[0;34m\u001b[0m\u001b[0m\n",
            "\u001b[0;32m/usr/local/lib/python3.6/dist-packages/keras/engine/saving.py\u001b[0m in \u001b[0;36msave_wrapper\u001b[0;34m(obj, filepath, overwrite, *args, **kwargs)\u001b[0m\n\u001b[1;32m    413\u001b[0m                 \u001b[0mos\u001b[0m\u001b[0;34m.\u001b[0m\u001b[0mremove\u001b[0m\u001b[0;34m(\u001b[0m\u001b[0mtmp_filepath\u001b[0m\u001b[0;34m)\u001b[0m\u001b[0;34m\u001b[0m\u001b[0;34m\u001b[0m\u001b[0m\n\u001b[1;32m    414\u001b[0m         \u001b[0;32melse\u001b[0m\u001b[0;34m:\u001b[0m\u001b[0;34m\u001b[0m\u001b[0;34m\u001b[0m\u001b[0m\n\u001b[0;32m--> 415\u001b[0;31m             \u001b[0msave_function\u001b[0m\u001b[0;34m(\u001b[0m\u001b[0mobj\u001b[0m\u001b[0;34m,\u001b[0m \u001b[0mfilepath\u001b[0m\u001b[0;34m,\u001b[0m \u001b[0moverwrite\u001b[0m\u001b[0;34m,\u001b[0m \u001b[0;34m*\u001b[0m\u001b[0margs\u001b[0m\u001b[0;34m,\u001b[0m \u001b[0;34m**\u001b[0m\u001b[0mkwargs\u001b[0m\u001b[0;34m)\u001b[0m\u001b[0;34m\u001b[0m\u001b[0;34m\u001b[0m\u001b[0m\n\u001b[0m\u001b[1;32m    416\u001b[0m \u001b[0;34m\u001b[0m\u001b[0m\n\u001b[1;32m    417\u001b[0m     \u001b[0;32mreturn\u001b[0m \u001b[0msave_wrapper\u001b[0m\u001b[0;34m\u001b[0m\u001b[0;34m\u001b[0m\u001b[0m\n",
            "\u001b[0;32m/usr/local/lib/python3.6/dist-packages/keras/engine/network.py\u001b[0m in \u001b[0;36msave_weights\u001b[0;34m(self, filepath, overwrite)\u001b[0m\n\u001b[1;32m   1168\u001b[0m             \u001b[0;32mif\u001b[0m \u001b[0;32mnot\u001b[0m \u001b[0mproceed\u001b[0m\u001b[0;34m:\u001b[0m\u001b[0;34m\u001b[0m\u001b[0;34m\u001b[0m\u001b[0m\n\u001b[1;32m   1169\u001b[0m                 \u001b[0;32mreturn\u001b[0m\u001b[0;34m\u001b[0m\u001b[0;34m\u001b[0m\u001b[0m\n\u001b[0;32m-> 1170\u001b[0;31m         \u001b[0;32mwith\u001b[0m \u001b[0mh5py\u001b[0m\u001b[0;34m.\u001b[0m\u001b[0mFile\u001b[0m\u001b[0;34m(\u001b[0m\u001b[0mfilepath\u001b[0m\u001b[0;34m,\u001b[0m \u001b[0;34m'w'\u001b[0m\u001b[0;34m)\u001b[0m \u001b[0;32mas\u001b[0m \u001b[0mf\u001b[0m\u001b[0;34m:\u001b[0m\u001b[0;34m\u001b[0m\u001b[0;34m\u001b[0m\u001b[0m\n\u001b[0m\u001b[1;32m   1171\u001b[0m             \u001b[0msaving\u001b[0m\u001b[0;34m.\u001b[0m\u001b[0msave_weights_to_hdf5_group\u001b[0m\u001b[0;34m(\u001b[0m\u001b[0mf\u001b[0m\u001b[0;34m,\u001b[0m \u001b[0mself\u001b[0m\u001b[0;34m.\u001b[0m\u001b[0mlayers\u001b[0m\u001b[0;34m)\u001b[0m\u001b[0;34m\u001b[0m\u001b[0;34m\u001b[0m\u001b[0m\n\u001b[1;32m   1172\u001b[0m             \u001b[0mf\u001b[0m\u001b[0;34m.\u001b[0m\u001b[0mflush\u001b[0m\u001b[0;34m(\u001b[0m\u001b[0;34m)\u001b[0m\u001b[0;34m\u001b[0m\u001b[0;34m\u001b[0m\u001b[0m\n",
            "\u001b[0;32m/usr/local/lib/python3.6/dist-packages/h5py/_hl/files.py\u001b[0m in \u001b[0;36m__init__\u001b[0;34m(self, name, mode, driver, libver, userblock_size, swmr, **kwds)\u001b[0m\n\u001b[1;32m    310\u001b[0m             \u001b[0;32mwith\u001b[0m \u001b[0mphil\u001b[0m\u001b[0;34m:\u001b[0m\u001b[0;34m\u001b[0m\u001b[0;34m\u001b[0m\u001b[0m\n\u001b[1;32m    311\u001b[0m                 \u001b[0mfapl\u001b[0m \u001b[0;34m=\u001b[0m \u001b[0mmake_fapl\u001b[0m\u001b[0;34m(\u001b[0m\u001b[0mdriver\u001b[0m\u001b[0;34m,\u001b[0m \u001b[0mlibver\u001b[0m\u001b[0;34m,\u001b[0m \u001b[0;34m**\u001b[0m\u001b[0mkwds\u001b[0m\u001b[0;34m)\u001b[0m\u001b[0;34m\u001b[0m\u001b[0;34m\u001b[0m\u001b[0m\n\u001b[0;32m--> 312\u001b[0;31m                 \u001b[0mfid\u001b[0m \u001b[0;34m=\u001b[0m \u001b[0mmake_fid\u001b[0m\u001b[0;34m(\u001b[0m\u001b[0mname\u001b[0m\u001b[0;34m,\u001b[0m \u001b[0mmode\u001b[0m\u001b[0;34m,\u001b[0m \u001b[0muserblock_size\u001b[0m\u001b[0;34m,\u001b[0m \u001b[0mfapl\u001b[0m\u001b[0;34m,\u001b[0m \u001b[0mswmr\u001b[0m\u001b[0;34m=\u001b[0m\u001b[0mswmr\u001b[0m\u001b[0;34m)\u001b[0m\u001b[0;34m\u001b[0m\u001b[0;34m\u001b[0m\u001b[0m\n\u001b[0m\u001b[1;32m    313\u001b[0m \u001b[0;34m\u001b[0m\u001b[0m\n\u001b[1;32m    314\u001b[0m                 \u001b[0;32mif\u001b[0m \u001b[0mswmr_support\u001b[0m\u001b[0;34m:\u001b[0m\u001b[0;34m\u001b[0m\u001b[0;34m\u001b[0m\u001b[0m\n",
            "\u001b[0;32m/usr/local/lib/python3.6/dist-packages/h5py/_hl/files.py\u001b[0m in \u001b[0;36mmake_fid\u001b[0;34m(name, mode, userblock_size, fapl, fcpl, swmr)\u001b[0m\n\u001b[1;32m    146\u001b[0m         \u001b[0mfid\u001b[0m \u001b[0;34m=\u001b[0m \u001b[0mh5f\u001b[0m\u001b[0;34m.\u001b[0m\u001b[0mcreate\u001b[0m\u001b[0;34m(\u001b[0m\u001b[0mname\u001b[0m\u001b[0;34m,\u001b[0m \u001b[0mh5f\u001b[0m\u001b[0;34m.\u001b[0m\u001b[0mACC_EXCL\u001b[0m\u001b[0;34m,\u001b[0m \u001b[0mfapl\u001b[0m\u001b[0;34m=\u001b[0m\u001b[0mfapl\u001b[0m\u001b[0;34m,\u001b[0m \u001b[0mfcpl\u001b[0m\u001b[0;34m=\u001b[0m\u001b[0mfcpl\u001b[0m\u001b[0;34m)\u001b[0m\u001b[0;34m\u001b[0m\u001b[0;34m\u001b[0m\u001b[0m\n\u001b[1;32m    147\u001b[0m     \u001b[0;32melif\u001b[0m \u001b[0mmode\u001b[0m \u001b[0;34m==\u001b[0m \u001b[0;34m'w'\u001b[0m\u001b[0;34m:\u001b[0m\u001b[0;34m\u001b[0m\u001b[0;34m\u001b[0m\u001b[0m\n\u001b[0;32m--> 148\u001b[0;31m         \u001b[0mfid\u001b[0m \u001b[0;34m=\u001b[0m \u001b[0mh5f\u001b[0m\u001b[0;34m.\u001b[0m\u001b[0mcreate\u001b[0m\u001b[0;34m(\u001b[0m\u001b[0mname\u001b[0m\u001b[0;34m,\u001b[0m \u001b[0mh5f\u001b[0m\u001b[0;34m.\u001b[0m\u001b[0mACC_TRUNC\u001b[0m\u001b[0;34m,\u001b[0m \u001b[0mfapl\u001b[0m\u001b[0;34m=\u001b[0m\u001b[0mfapl\u001b[0m\u001b[0;34m,\u001b[0m \u001b[0mfcpl\u001b[0m\u001b[0;34m=\u001b[0m\u001b[0mfcpl\u001b[0m\u001b[0;34m)\u001b[0m\u001b[0;34m\u001b[0m\u001b[0;34m\u001b[0m\u001b[0m\n\u001b[0m\u001b[1;32m    149\u001b[0m     \u001b[0;32melif\u001b[0m \u001b[0mmode\u001b[0m \u001b[0;34m==\u001b[0m \u001b[0;34m'a'\u001b[0m\u001b[0;34m:\u001b[0m\u001b[0;34m\u001b[0m\u001b[0;34m\u001b[0m\u001b[0m\n\u001b[1;32m    150\u001b[0m         \u001b[0;31m# Open in append mode (read/write).\u001b[0m\u001b[0;34m\u001b[0m\u001b[0;34m\u001b[0m\u001b[0;34m\u001b[0m\u001b[0m\n",
            "\u001b[0;32mh5py/_objects.pyx\u001b[0m in \u001b[0;36mh5py._objects.with_phil.wrapper\u001b[0;34m()\u001b[0m\n",
            "\u001b[0;32mh5py/_objects.pyx\u001b[0m in \u001b[0;36mh5py._objects.with_phil.wrapper\u001b[0;34m()\u001b[0m\n",
            "\u001b[0;32mh5py/h5f.pyx\u001b[0m in \u001b[0;36mh5py.h5f.create\u001b[0;34m()\u001b[0m\n",
            "\u001b[0;31mOSError\u001b[0m: Unable to create file (unable to open file: name = '/content/gdrive/My Drive/h', errno = 2, error message = 'No such file or directory', flags = 13, o_flags = 242)"
          ]
        }
      ]
    },
    {
      "cell_type": "code",
      "metadata": {
        "id": "c50utyyJBuHp",
        "colab_type": "code",
        "colab": {}
      },
      "source": [
        "model.save_weights(\"/content/gdrive/My Drive/model-stackoverflow3oct.h5\")"
      ],
      "execution_count": 0,
      "outputs": []
    },
    {
      "cell_type": "code",
      "metadata": {
        "id": "XzvdAZdvB0bX",
        "colab_type": "code",
        "colab": {}
      },
      "source": [
        "#model.load_weights('model-stackoverflow3oct.h5')"
      ],
      "execution_count": 0,
      "outputs": []
    },
    {
      "cell_type": "code",
      "metadata": {
        "id": "Fk8HjCCSSraM",
        "colab_type": "code",
        "colab": {}
      },
      "source": [
        "#import keras\n",
        "\n",
        "#cnn_model = keras.models.load_model('model-stackoverflow.h5')\n",
        "#metrics = cnn_model.evaluate(x_test, y_test)\n",
        "#print(\"{}: {}\".format(model.metrics_names[0], metrics[0]))\n",
        "#print(\"{}: {}\".format(model.metrics_names[1], metrics[1]))"
      ],
      "execution_count": 0,
      "outputs": []
    },
    {
      "cell_type": "code",
      "metadata": {
        "id": "iSIwAQgk9tHr",
        "colab_type": "code",
        "colab": {
          "base_uri": "https://localhost:8080/",
          "height": 72
        },
        "outputId": "e00b4460-d111-4982-e338-9b9b327fee44"
      },
      "source": [
        "\n",
        "\n",
        "#cnn_model = keras.models.load_model('model-stackoverflow.h5')\n",
        "metrics = model.evaluate(X_test, y_test)\n",
        "print(\"{}: {}\".format(model.metrics_names[0], metrics[0]))\n",
        "print(\"{}: {}\".format(model.metrics_names[1], metrics[1]))"
      ],
      "execution_count": 99,
      "outputs": [
        {
          "output_type": "stream",
          "text": [
            "6317/6317 [==============================] - 23s 4ms/step\n",
            "loss: 0.028800970486540553\n",
            "acc: 0.9908105196106636\n"
          ],
          "name": "stdout"
        }
      ]
    },
    {
      "cell_type": "code",
      "metadata": {
        "id": "9vBmd2JBXC-O",
        "colab_type": "code",
        "colab": {}
      },
      "source": [
        ""
      ],
      "execution_count": 0,
      "outputs": []
    },
    {
      "cell_type": "markdown",
      "metadata": {
        "id": "n_f6NbsCXFex",
        "colab_type": "text"
      },
      "source": [
        "## Test data from stackoverflow api"
      ]
    },
    {
      "cell_type": "code",
      "metadata": {
        "id": "sGChnUCE-bfs",
        "colab_type": "code",
        "colab": {
          "base_uri": "https://localhost:8080/",
          "height": 92
        },
        "outputId": "aa902e79-b22b-48d3-9bf0-1c17b22fc3b4"
      },
      "source": [
        "import requests\n",
        "import random\n",
        "url='https://api.stackexchange.com/2.2/questions?page=1&pagesize=1&order=desc&sort=activity&tagged=python; sql&site=stackoverflow'\n",
        "\n",
        "data = requests.get(url).json()\n",
        "print(data)\n",
        "item= random.choice(data.get('items'))\n",
        "print(item)\n",
        "#q=strip_html_tags(item.get('body'))\n",
        "#print(q)\n",
        "print(item.get('title'))"
      ],
      "execution_count": 100,
      "outputs": [
        {
          "output_type": "stream",
          "text": [
            "{'items': [{'tags': ['python', 'sql', 'django'], 'owner': {'reputation': 8, 'user_id': 11044656, 'user_type': 'registered', 'profile_image': 'https://lh5.googleusercontent.com/-r78ICAxKUD0/AAAAAAAAAAI/AAAAAAAAAGM/LmVSu_aO63Q/photo.jpg?sz=128', 'display_name': 'SAMUEL Tuyizere', 'link': 'https://stackoverflow.com/users/11044656/samuel-tuyizere'}, 'is_answered': True, 'view_count': 21, 'answer_count': 2, 'score': 0, 'last_activity_date': 1570115295, 'creation_date': 1570115140, 'question_id': 58221951, 'link': 'https://stackoverflow.com/questions/58221951/how-do-i-count-objects-that-has-an-id-below-the-current-id-in-django', 'title': 'How do i count objects that has an id below the current id in django'}], 'has_more': True, 'quota_max': 300, 'quota_remaining': 299}\n",
            "{'tags': ['python', 'sql', 'django'], 'owner': {'reputation': 8, 'user_id': 11044656, 'user_type': 'registered', 'profile_image': 'https://lh5.googleusercontent.com/-r78ICAxKUD0/AAAAAAAAAAI/AAAAAAAAAGM/LmVSu_aO63Q/photo.jpg?sz=128', 'display_name': 'SAMUEL Tuyizere', 'link': 'https://stackoverflow.com/users/11044656/samuel-tuyizere'}, 'is_answered': True, 'view_count': 21, 'answer_count': 2, 'score': 0, 'last_activity_date': 1570115295, 'creation_date': 1570115140, 'question_id': 58221951, 'link': 'https://stackoverflow.com/questions/58221951/how-do-i-count-objects-that-has-an-id-below-the-current-id-in-django', 'title': 'How do i count objects that has an id below the current id in django'}\n",
            "How do i count objects that has an id below the current id in django\n"
          ],
          "name": "stdout"
        }
      ]
    },
    {
      "cell_type": "code",
      "metadata": {
        "id": "GE5U8hWxEOQ3",
        "colab_type": "code",
        "colab": {}
      },
      "source": [
        "def strip_html_tags(body):\n",
        "    regex = re.compile('<.*?>')\n",
        "    return re.sub(regex, '', body)"
      ],
      "execution_count": 0,
      "outputs": []
    },
    {
      "cell_type": "code",
      "metadata": {
        "id": "6GKIRcNKXL5K",
        "colab_type": "code",
        "colab": {}
      },
      "source": [
        ""
      ],
      "execution_count": 0,
      "outputs": []
    },
    {
      "cell_type": "markdown",
      "metadata": {
        "id": "OIRz1O75XN1p",
        "colab_type": "text"
      },
      "source": [
        "## Predicting on Test split"
      ]
    },
    {
      "cell_type": "code",
      "metadata": {
        "id": "_VsordZOav3A",
        "colab_type": "code",
        "colab": {}
      },
      "source": [
        "new_df.reset_index(inplace=True)"
      ],
      "execution_count": 0,
      "outputs": []
    },
    {
      "cell_type": "code",
      "metadata": {
        "id": "ajCHHcIdXca7",
        "colab_type": "code",
        "colab": {
          "base_uri": "https://localhost:8080/",
          "height": 35
        },
        "outputId": "b49f2005-e3da-4101-8f13-3fe16d7844e7"
      },
      "source": [
        "X_test.shape"
      ],
      "execution_count": 103,
      "outputs": [
        {
          "output_type": "execute_result",
          "data": {
            "text/plain": [
              "(6317, 180)"
            ]
          },
          "metadata": {
            "tags": []
          },
          "execution_count": 103
        }
      ]
    },
    {
      "cell_type": "code",
      "metadata": {
        "id": "Op6c5Vm-dJra",
        "colab_type": "code",
        "colab": {}
      },
      "source": [
        "s=563\n",
        "z = X_test[s].reshape(1 ,180)"
      ],
      "execution_count": 0,
      "outputs": []
    },
    {
      "cell_type": "code",
      "metadata": {
        "id": "Mz1D7rHAdBLJ",
        "colab_type": "code",
        "colab": {}
      },
      "source": [
        "l = model.predict(z).reshape(100, )\n",
        "p1 = prediction_to_label(l)\n",
        "df = pd.DataFrame()\n",
        "df['label'] = p1.keys()\n",
        "df['probability'] = p1.values()"
      ],
      "execution_count": 0,
      "outputs": []
    },
    {
      "cell_type": "code",
      "metadata": {
        "id": "c-pv5QG6HMhi",
        "colab_type": "code",
        "outputId": "5d7a6fd3-8d88-4f78-8b3e-78cad8728710",
        "colab": {
          "base_uri": "https://localhost:8080/",
          "height": 381
        }
      },
      "source": [
        "#print(y_test[s],tags_features[list(y_test[s]).index(1)])\n",
        "c=[i for i,j in enumerate (y_test[s]) if j==1]\n",
        "print([tags_features[i] for i in c])\n",
        "df.head(10)"
      ],
      "execution_count": 106,
      "outputs": [
        {
          "output_type": "stream",
          "text": [
            "['algorithm', 'templates']\n"
          ],
          "name": "stdout"
        },
        {
          "output_type": "execute_result",
          "data": {
            "text/html": [
              "<div>\n",
              "<style scoped>\n",
              "    .dataframe tbody tr th:only-of-type {\n",
              "        vertical-align: middle;\n",
              "    }\n",
              "\n",
              "    .dataframe tbody tr th {\n",
              "        vertical-align: top;\n",
              "    }\n",
              "\n",
              "    .dataframe thead th {\n",
              "        text-align: right;\n",
              "    }\n",
              "</style>\n",
              "<table border=\"1\" class=\"dataframe\">\n",
              "  <thead>\n",
              "    <tr style=\"text-align: right;\">\n",
              "      <th></th>\n",
              "      <th>label</th>\n",
              "      <th>probability</th>\n",
              "    </tr>\n",
              "  </thead>\n",
              "  <tbody>\n",
              "    <tr>\n",
              "      <th>0</th>\n",
              "      <td>templates</td>\n",
              "      <td>0.983637</td>\n",
              "    </tr>\n",
              "    <tr>\n",
              "      <th>1</th>\n",
              "      <td>mongodb</td>\n",
              "      <td>0.190881</td>\n",
              "    </tr>\n",
              "    <tr>\n",
              "      <th>2</th>\n",
              "      <td>ruby-on-rails</td>\n",
              "      <td>0.074304</td>\n",
              "    </tr>\n",
              "    <tr>\n",
              "      <th>3</th>\n",
              "      <td>sql-server</td>\n",
              "      <td>0.030235</td>\n",
              "    </tr>\n",
              "    <tr>\n",
              "      <th>4</th>\n",
              "      <td>algorithm</td>\n",
              "      <td>0.025115</td>\n",
              "    </tr>\n",
              "    <tr>\n",
              "      <th>5</th>\n",
              "      <td>swing</td>\n",
              "      <td>0.024154</td>\n",
              "    </tr>\n",
              "    <tr>\n",
              "      <th>6</th>\n",
              "      <td>svn</td>\n",
              "      <td>0.022318</td>\n",
              "    </tr>\n",
              "    <tr>\n",
              "      <th>7</th>\n",
              "      <td>asp.net-mvc</td>\n",
              "      <td>0.016334</td>\n",
              "    </tr>\n",
              "    <tr>\n",
              "      <th>8</th>\n",
              "      <td>function</td>\n",
              "      <td>0.015413</td>\n",
              "    </tr>\n",
              "    <tr>\n",
              "      <th>9</th>\n",
              "      <td>c</td>\n",
              "      <td>0.008426</td>\n",
              "    </tr>\n",
              "  </tbody>\n",
              "</table>\n",
              "</div>"
            ],
            "text/plain": [
              "           label  probability\n",
              "0      templates     0.983637\n",
              "1        mongodb     0.190881\n",
              "2  ruby-on-rails     0.074304\n",
              "3     sql-server     0.030235\n",
              "4      algorithm     0.025115\n",
              "5          swing     0.024154\n",
              "6            svn     0.022318\n",
              "7    asp.net-mvc     0.016334\n",
              "8       function     0.015413\n",
              "9              c     0.008426"
            ]
          },
          "metadata": {
            "tags": []
          },
          "execution_count": 106
        }
      ]
    },
    {
      "cell_type": "code",
      "metadata": {
        "id": "SM3dLt3PIm7W",
        "colab_type": "code",
        "colab": {
          "base_uri": "https://localhost:8080/",
          "height": 35
        },
        "outputId": "d39f2ebf-bc19-4be2-bc13-328150011a01"
      },
      "source": [
        "np.where(df['label']=='algorithm')"
      ],
      "execution_count": 90,
      "outputs": [
        {
          "output_type": "execute_result",
          "data": {
            "text/plain": [
              "(array([32]),)"
            ]
          },
          "metadata": {
            "tags": []
          },
          "execution_count": 90
        }
      ]
    },
    {
      "cell_type": "code",
      "metadata": {
        "id": "9l5hPZnqQzw3",
        "colab_type": "code",
        "colab": {}
      },
      "source": [
        "import math\n",
        "\n",
        "def softmax(z):\n",
        "    return [1 / (1+math.exp(-n)) for n in z]"
      ],
      "execution_count": 0,
      "outputs": []
    }
  ]
}