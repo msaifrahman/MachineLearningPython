{
  "nbformat": 4,
  "nbformat_minor": 0,
  "metadata": {
    "kernelspec": {
      "name": "python3",
      "display_name": "Python 3"
    },
    "language_info": {
      "pygments_lexer": "ipython3",
      "nbconvert_exporter": "python",
      "version": "3.6.4",
      "file_extension": ".py",
      "codemirror_mode": {
        "name": "ipython",
        "version": 3
      },
      "name": "python",
      "mimetype": "text/x-python"
    },
    "colab": {
      "name": "Copy of Deep Learning project11.ipynb",
      "provenance": [],
      "collapsed_sections": [],
      "machine_shape": "hm",
      "include_colab_link": true
    },
    "accelerator": "GPU"
  },
  "cells": [
    {
      "cell_type": "markdown",
      "metadata": {
        "id": "view-in-github",
        "colab_type": "text"
      },
      "source": [
        "<a href=\"https://colab.research.google.com/github/saif619/MachineLearningPython/blob/master/StackOverflow.ipynb\" target=\"_parent\"><img src=\"https://colab.research.google.com/assets/colab-badge.svg\" alt=\"Open In Colab\"/></a>"
      ]
    },
    {
      "cell_type": "code",
      "metadata": {
        "id": "J_CSOB2FT44e",
        "colab_type": "code",
        "colab": {}
      },
      "source": [
        ""
      ],
      "execution_count": 0,
      "outputs": []
    },
    {
      "cell_type": "markdown",
      "metadata": {
        "id": "w0i124JIT61g",
        "colab_type": "text"
      },
      "source": [
        "![](https://miro.medium.com/max/1059/1*ZAT-ZZQaX80h-Hl1eJr7bA.png)"
      ]
    },
    {
      "cell_type": "code",
      "metadata": {
        "id": "_30kKIMGwN9K",
        "colab_type": "code",
        "outputId": "6e1952c8-2614-48c4-aa1f-ba7ef222b628",
        "colab": {
          "base_uri": "https://localhost:8080/",
          "height": 80
        }
      },
      "source": [
        "import tensorflow as tf\n",
        "tf.test.gpu_device_name()"
      ],
      "execution_count": 0,
      "outputs": [
        {
          "output_type": "display_data",
          "data": {
            "text/html": [
              "<p style=\"color: red;\">\n",
              "The default version of TensorFlow in Colab will soon switch to TensorFlow 2.x.<br>\n",
              "We recommend you <a href=\"https://www.tensorflow.org/guide/migrate\" target=\"_blank\">upgrade</a> now \n",
              "or ensure your notebook will continue to use TensorFlow 1.x via the <code>%tensorflow_version 1.x</code> magic:\n",
              "<a href=\"https://colab.research.google.com/notebooks/tensorflow_version.ipynb\" target=\"_blank\">more info</a>.</p>\n"
            ],
            "text/plain": [
              "<IPython.core.display.HTML object>"
            ]
          },
          "metadata": {
            "tags": []
          }
        },
        {
          "output_type": "execute_result",
          "data": {
            "text/plain": [
              "'/device:GPU:0'"
            ]
          },
          "metadata": {
            "tags": []
          },
          "execution_count": 1
        }
      ]
    },
    {
      "cell_type": "code",
      "metadata": {
        "id": "ie01LCD0Kyd_",
        "colab_type": "code",
        "outputId": "0d0be0f3-8185-4708-ba66-95c089b21b4a",
        "colab": {
          "base_uri": "https://localhost:8080/",
          "height": 445
        }
      },
      "source": [
        "!wget https://www.dropbox.com/s/5721wcs2guuykzl/stacksample.zip?dl=0"
      ],
      "execution_count": 0,
      "outputs": [
        {
          "output_type": "stream",
          "text": [
            "--2019-11-13 05:26:08--  https://www.dropbox.com/s/5721wcs2guuykzl/stacksample.zip?dl=0\n",
            "Resolving www.dropbox.com (www.dropbox.com)... 162.125.9.1, 2620:100:601f:1::a27d:901\n",
            "Connecting to www.dropbox.com (www.dropbox.com)|162.125.9.1|:443... connected.\n",
            "HTTP request sent, awaiting response... 301 Moved Permanently\n",
            "Location: /s/raw/5721wcs2guuykzl/stacksample.zip [following]\n",
            "--2019-11-13 05:26:08--  https://www.dropbox.com/s/raw/5721wcs2guuykzl/stacksample.zip\n",
            "Reusing existing connection to www.dropbox.com:443.\n",
            "HTTP request sent, awaiting response... 302 Found\n",
            "Location: https://uc5589cf3077a29b427cb96288c1.dl.dropboxusercontent.com/cd/0/inline/AsSfzg_fpjCg3tctYhjCd7QI_KvezATCo9RmiZNuIoop8tv0cMHGOoOL8lSEV64yFHW2Fmqx8zLNWERRVgWDPm8kJJzGKl3p2TwuNnhN748V1g/file# [following]\n",
            "--2019-11-13 05:26:08--  https://uc5589cf3077a29b427cb96288c1.dl.dropboxusercontent.com/cd/0/inline/AsSfzg_fpjCg3tctYhjCd7QI_KvezATCo9RmiZNuIoop8tv0cMHGOoOL8lSEV64yFHW2Fmqx8zLNWERRVgWDPm8kJJzGKl3p2TwuNnhN748V1g/file\n",
            "Resolving uc5589cf3077a29b427cb96288c1.dl.dropboxusercontent.com (uc5589cf3077a29b427cb96288c1.dl.dropboxusercontent.com)... 162.125.8.6, 2620:100:601f:6::a27d:906\n",
            "Connecting to uc5589cf3077a29b427cb96288c1.dl.dropboxusercontent.com (uc5589cf3077a29b427cb96288c1.dl.dropboxusercontent.com)|162.125.8.6|:443... connected.\n",
            "HTTP request sent, awaiting response... 302 FOUND\n",
            "Location: /cd/0/inline2/AsQA0Z4O-tWmOJc7qbxEp6Z2CYtq4pWic52c3Ddt2d0tnOaQBO5Su2LNgRiiihPpQZjTe5HIVnsb9hVmB0YguuTro4nndMaGc5aHVFBsEhiZcwKHfatj1j-mvZaFlKAxlGJcyweACo31lZXeeYgwmXplwksarA7cP1wY_sMv_uiAtHC5bv5AL-lE7jssICdLBbCnaFMAlgPQi623umF3zRDHq0uO83akbrdoZ5RIi1-udwlv3Q805XgTEUyYoD9F5hg5xunxXgh-1NpF22YLb9H38CcLcQ8t3AirtrS6vf57aq4uPBYwvzloVb9lQ0PUoq9PLV1iQMheoj9jZkHSDjLh/file [following]\n",
            "--2019-11-13 05:26:09--  https://uc5589cf3077a29b427cb96288c1.dl.dropboxusercontent.com/cd/0/inline2/AsQA0Z4O-tWmOJc7qbxEp6Z2CYtq4pWic52c3Ddt2d0tnOaQBO5Su2LNgRiiihPpQZjTe5HIVnsb9hVmB0YguuTro4nndMaGc5aHVFBsEhiZcwKHfatj1j-mvZaFlKAxlGJcyweACo31lZXeeYgwmXplwksarA7cP1wY_sMv_uiAtHC5bv5AL-lE7jssICdLBbCnaFMAlgPQi623umF3zRDHq0uO83akbrdoZ5RIi1-udwlv3Q805XgTEUyYoD9F5hg5xunxXgh-1NpF22YLb9H38CcLcQ8t3AirtrS6vf57aq4uPBYwvzloVb9lQ0PUoq9PLV1iQMheoj9jZkHSDjLh/file\n",
            "Reusing existing connection to uc5589cf3077a29b427cb96288c1.dl.dropboxusercontent.com:443.\n",
            "HTTP request sent, awaiting response... 200 OK\n",
            "Length: 1231288519 (1.1G) [application/zip]\n",
            "Saving to: ‘stacksample.zip?dl=0’\n",
            "\n",
            "stacksample.zip?dl= 100%[===================>]   1.15G  30.1MB/s    in 41s     \n",
            "\n",
            "2019-11-13 05:26:50 (28.7 MB/s) - ‘stacksample.zip?dl=0’ saved [1231288519/1231288519]\n",
            "\n"
          ],
          "name": "stdout"
        }
      ]
    },
    {
      "cell_type": "code",
      "metadata": {
        "id": "wiAeJ899wTh1",
        "colab_type": "code",
        "colab": {}
      },
      "source": [
        "#For writing weights to google drive\n",
        "#!pip install pydrive\n",
        "def Gdrive():\n",
        "  from google.colab import drive\n",
        "  drive.mount('/content/gdrive')\n",
        "  from pydrive.auth import GoogleAuth\n",
        "  from pydrive.drive import GoogleDrive\n",
        "  from google.colab import auth\n",
        "  from oauth2client.client import GoogleCredentials\n",
        "  auth.authenticate_user()\n",
        "  gauth = GoogleAuth()\n",
        "  gauth.credentials = GoogleCredentials.get_application_default()\n",
        "  drive = GoogleDrive(gauth)"
      ],
      "execution_count": 0,
      "outputs": []
    },
    {
      "cell_type": "code",
      "metadata": {
        "id": "pu3P5etjDWhJ",
        "colab_type": "code",
        "outputId": "ff3b021a-0e16-4309-b808-3f856938e762",
        "colab": {
          "base_uri": "https://localhost:8080/",
          "height": 122
        }
      },
      "source": [
        "Gdrive()"
      ],
      "execution_count": 0,
      "outputs": [
        {
          "output_type": "stream",
          "text": [
            "Go to this URL in a browser: https://accounts.google.com/o/oauth2/auth?client_id=947318989803-6bn6qk8qdgf4n4g3pfee6491hc0brc4i.apps.googleusercontent.com&redirect_uri=urn%3Aietf%3Awg%3Aoauth%3A2.0%3Aoob&scope=email%20https%3A%2F%2Fwww.googleapis.com%2Fauth%2Fdocs.test%20https%3A%2F%2Fwww.googleapis.com%2Fauth%2Fdrive%20https%3A%2F%2Fwww.googleapis.com%2Fauth%2Fdrive.photos.readonly%20https%3A%2F%2Fwww.googleapis.com%2Fauth%2Fpeopleapi.readonly&response_type=code\n",
            "\n",
            "Enter your authorization code:\n",
            "··········\n",
            "Mounted at /content/gdrive\n"
          ],
          "name": "stdout"
        }
      ]
    },
    {
      "cell_type": "code",
      "metadata": {
        "id": "fTvEJkdGwpoR",
        "colab_type": "code",
        "outputId": "df769e3d-fbba-47f4-c56c-fb9783dc9c90",
        "colab": {
          "base_uri": "https://localhost:8080/",
          "height": 34
        }
      },
      "source": [
        "import os\n",
        "os.listdir()"
      ],
      "execution_count": 0,
      "outputs": [
        {
          "output_type": "execute_result",
          "data": {
            "text/plain": [
              "['.config', 'gdrive', 'stacksample.zip?dl=0', 'adc.json', 'sample_data']"
            ]
          },
          "metadata": {
            "tags": []
          },
          "execution_count": 5
        }
      ]
    },
    {
      "cell_type": "code",
      "metadata": {
        "id": "VDERn1eFMSNa",
        "colab_type": "code",
        "outputId": "d1c582d4-77c4-4a92-a1fe-0811e59651b8",
        "colab": {
          "base_uri": "https://localhost:8080/",
          "height": 85
        }
      },
      "source": [
        "!unzip stacksample.zip?dl=0"
      ],
      "execution_count": 0,
      "outputs": [
        {
          "output_type": "stream",
          "text": [
            "Archive:  stacksample.zip?dl=0\n",
            "  inflating: Answers.csv             \n",
            "  inflating: Questions.csv           \n",
            "  inflating: Tags.csv                \n"
          ],
          "name": "stdout"
        }
      ]
    },
    {
      "cell_type": "markdown",
      "metadata": {
        "id": "mNEBmAnfUMVU",
        "colab_type": "text"
      },
      "source": [
        "## Importing the required Libraries"
      ]
    },
    {
      "cell_type": "code",
      "metadata": {
        "_uuid": "8f2839f25d086af736a60e9eeb907d3b93b6e0e5",
        "_cell_guid": "b1076dfc-b9ad-4769-8c92-a6c4dae69d19",
        "trusted": true,
        "id": "zVzmjqnCu6s_",
        "colab_type": "code",
        "colab": {}
      },
      "source": [
        "import pandas as pd\n",
        "import numpy as np\n",
        "import pickle\n",
        "import time\n",
        "import re\n",
        "from bs4 import BeautifulSoup\n",
        "import nltk\n",
        "from nltk.tokenize import ToktokTokenizer\n",
        "from nltk.stem.wordnet import WordNetLemmatizer\n",
        "from nltk.corpus import stopwords\n",
        "from string import punctuation\n",
        "from sklearn.feature_extraction.text import TfidfVectorizer\n",
        "from sklearn.decomposition import LatentDirichletAllocation\n",
        "from sklearn.preprocessing import MultiLabelBinarizer\n",
        "from sklearn.model_selection import train_test_split\n",
        "from sklearn.model_selection import learning_curve\n",
        "from sklearn.model_selection import ShuffleSplit\n",
        "from sklearn.dummy import DummyClassifier\n",
        "from sklearn.naive_bayes import MultinomialNB\n",
        "from sklearn.linear_model import SGDClassifier\n",
        "from sklearn.linear_model import LogisticRegression\n",
        "from sklearn.multiclass import OneVsRestClassifier\n",
        "from sklearn.svm import LinearSVC\n",
        "from sklearn.linear_model import Perceptron\n",
        "from sklearn.linear_model import PassiveAggressiveClassifier\n",
        "from sklearn.neural_network import MLPClassifier\n",
        "from sklearn.ensemble import RandomForestClassifier\n",
        "from sklearn import model_selection\n",
        "from sklearn.metrics import make_scorer\n",
        "from sklearn.metrics import confusion_matrix\n",
        "from sklearn.metrics import hamming_loss\n",
        "from sklearn.cluster import KMeans\n",
        "from sklearn.utils import class_weight\n",
        "from scipy.sparse import hstack\n",
        "\n",
        "import warnings\n",
        "warnings.filterwarnings(\"ignore\")\n",
        "\n"
      ],
      "execution_count": 0,
      "outputs": []
    },
    {
      "cell_type": "markdown",
      "metadata": {
        "id": "yS1KDvz3Jdnc",
        "colab_type": "text"
      },
      "source": [
        "## Reading data"
      ]
    },
    {
      "cell_type": "code",
      "metadata": {
        "id": "SOcTX2dHDpXs",
        "colab_type": "code",
        "colab": {}
      },
      "source": [
        "def Load_data():\n",
        "    questions = pd.read_csv(\"Questions.csv\", encoding='latin1')\n",
        "    labels = pd.read_csv(\"Tags.csv\")\n",
        "    return questions,labels"
      ],
      "execution_count": 0,
      "outputs": []
    },
    {
      "cell_type": "code",
      "metadata": {
        "_uuid": "d629ff2d2480ee46fbb7e2d37f6b5fab8052498a",
        "_cell_guid": "79c7e3d0-c299-4dcb-8224-4455121ee9b0",
        "trusted": true,
        "id": "dSTMqo1Pu6tP",
        "colab_type": "code",
        "colab": {}
      },
      "source": [
        "df_questions, labels = Load_data()"
      ],
      "execution_count": 0,
      "outputs": []
    },
    {
      "cell_type": "code",
      "metadata": {
        "trusted": true,
        "id": "fMSbrafbu6t6",
        "colab_type": "code",
        "colab": {}
      },
      "source": [
        "# Displaying top 10 tags\n",
        "x = list(labels['Tag'].value_counts().head(10))"
      ],
      "execution_count": 0,
      "outputs": []
    },
    {
      "cell_type": "code",
      "metadata": {
        "trusted": true,
        "id": "SwQMmidsu6uD",
        "colab_type": "code",
        "colab": {}
      },
      "source": [
        "# converting tags type to str from object\n",
        "labels['Tag'] = labels['Tag'].astype(str)"
      ],
      "execution_count": 0,
      "outputs": []
    },
    {
      "cell_type": "markdown",
      "metadata": {
        "id": "aUymWbLFI99F",
        "colab_type": "text"
      },
      "source": [
        "## Prepdata function"
      ]
    },
    {
      "cell_type": "code",
      "metadata": {
        "id": "Knybn8NLGWKT",
        "colab_type": "code",
        "colab": {}
      },
      "source": [
        "def prep_data(labels, df_questions):\n",
        "  grouped_tags = labels.groupby(\"Id\")['Tag'].apply(lambda tags: ' '.join(tags))\n",
        "  grouped_tags = grouped_tags.reset_index()\n",
        "  df_questions.drop(columns=['OwnerUserId', 'CreationDate', 'ClosedDate'], inplace=True)\n",
        "  df_questions = df_questions.merge(grouped_tags, on='Id')\n",
        "  new_df = df_questions[df_questions['Score']>5]\n",
        "  new_df.drop_duplicates(inplace = True)\n",
        "  new_df.drop(columns=['Id', 'Score'], inplace=True)\n",
        "  new_df['Tags'] = new_df['Tag'].apply(lambda x: x.split())\n",
        "  all_tags = [item for sublist in new_df['Tags'].values for item in sublist]\n",
        "  return new_df, all_tags"
      ],
      "execution_count": 0,
      "outputs": []
    },
    {
      "cell_type": "code",
      "metadata": {
        "id": "SJhzfMO1JGgF",
        "colab_type": "code",
        "colab": {}
      },
      "source": [
        "new_df, all_tags = prep_data(labels, df_questions)"
      ],
      "execution_count": 0,
      "outputs": []
    },
    {
      "cell_type": "markdown",
      "metadata": {
        "id": "ndCUmLteVA_w",
        "colab_type": "text"
      },
      "source": [
        "## Reducing the problem to the most common tags in the dataset"
      ]
    },
    {
      "cell_type": "code",
      "metadata": {
        "trusted": true,
        "id": "HnMLQupMu6wl",
        "colab_type": "code",
        "colab": {}
      },
      "source": [
        "flat_list = [item for sublist in new_df['Tags'].values for item in sublist]\n",
        "\n",
        "keywords = nltk.FreqDist(flat_list)\n",
        "\n",
        "keywords = nltk.FreqDist(keywords)\n",
        "\n",
        "frequencies_words = keywords.most_common(100)\n",
        "tags_features = [word[0] for word in frequencies_words]"
      ],
      "execution_count": 0,
      "outputs": []
    },
    {
      "cell_type": "code",
      "metadata": {
        "trusted": true,
        "id": "6wP08av2u6w0",
        "colab_type": "code",
        "colab": {}
      },
      "source": [
        "def most_common(tags):\n",
        "    tags_filtered = []\n",
        "    for i in range(0, len(tags)):\n",
        "        if tags[i] in tags_features:\n",
        "            tags_filtered.append(tags[i])\n",
        "    return tags_filtered"
      ],
      "execution_count": 0,
      "outputs": []
    },
    {
      "cell_type": "code",
      "metadata": {
        "trusted": true,
        "id": "wa0oSN8vu6w-",
        "colab_type": "code",
        "colab": {}
      },
      "source": [
        "new_df['Tags'] = new_df['Tags'].apply(lambda x: most_common(x))\n",
        "new_df['Tags'] = new_df['Tags'].apply(lambda x: x if len(x)>0 else None)"
      ],
      "execution_count": 0,
      "outputs": []
    },
    {
      "cell_type": "code",
      "metadata": {
        "trusted": true,
        "id": "ojyVTGH_u6xW",
        "colab_type": "code",
        "colab": {}
      },
      "source": [
        "new_df.dropna(subset=['Tags'], inplace=True)"
      ],
      "execution_count": 0,
      "outputs": []
    },
    {
      "cell_type": "code",
      "metadata": {
        "trusted": true,
        "id": "Ya9yLYrOu6xj",
        "colab_type": "code",
        "outputId": "19df4d29-22e5-44c3-b464-bea936082d91",
        "colab": {
          "base_uri": "https://localhost:8080/",
          "height": 34
        }
      },
      "source": [
        "new_df.shape"
      ],
      "execution_count": 0,
      "outputs": [
        {
          "output_type": "execute_result",
          "data": {
            "text/plain": [
              "(63167, 4)"
            ]
          },
          "metadata": {
            "tags": []
          },
          "execution_count": 18
        }
      ]
    },
    {
      "cell_type": "markdown",
      "metadata": {
        "id": "a9eHFh9-u6xr",
        "colab_type": "text"
      },
      "source": [
        "\n",
        "\n",
        "## In the next two columns: Body and Title, I'll use lots of text processing:\n",
        "\n",
        "    Removing html format\n",
        "    Lowering text\n",
        "    Transforming abbreviations\n",
        "    Removing punctuation (but keeping words like c# since it's the most popular tag)\n",
        "    Lemmatizing words\n",
        "    Removing stop words"
      ]
    },
    {
      "cell_type": "code",
      "metadata": {
        "trusted": true,
        "id": "7UMnSpW8u6x4",
        "colab_type": "code",
        "colab": {}
      },
      "source": [
        "new_df['Body'] = new_df['Body'].apply(lambda x: BeautifulSoup(x).get_text())"
      ],
      "execution_count": 0,
      "outputs": []
    },
    {
      "cell_type": "code",
      "metadata": {
        "trusted": true,
        "id": "RO2f1fgMu6yB",
        "colab_type": "code",
        "colab": {}
      },
      "source": [
        "def clean_text(text):\n",
        "    text = text.lower()\n",
        "    text = re.sub(r\"what's\", \"what is \", text)\n",
        "    text = re.sub(r\"\\'s\", \" \", text)\n",
        "    text = re.sub(r\"\\'ve\", \" have \", text)\n",
        "    text = re.sub(r\"can't\", \"can not \", text)\n",
        "    text = re.sub(r\"n't\", \" not \", text)\n",
        "    text = re.sub(r\"i'm\", \"i am \", text)\n",
        "    text = re.sub(r\"\\'re\", \" are \", text)\n",
        "    text = re.sub(r\"\\'d\", \" would \", text)\n",
        "    text = re.sub(r\"\\'ll\", \" will \", text)\n",
        "    text = re.sub(r\"\\'scuse\", \" excuse \", text)\n",
        "    text = re.sub(r\"\\'\\n\", \" \", text)\n",
        "    text = re.sub(r\"\\'\\xa0\", \" \", text)\n",
        "    text = re.sub('\\s+', ' ', text)\n",
        "    text = text.strip(' ')\n",
        "    return text"
      ],
      "execution_count": 0,
      "outputs": []
    },
    {
      "cell_type": "code",
      "metadata": {
        "trusted": true,
        "id": "Bgo_T7FPu6yG",
        "colab_type": "code",
        "colab": {}
      },
      "source": [
        "new_df['Body'] = new_df['Body'].apply(lambda x: clean_text(x))"
      ],
      "execution_count": 0,
      "outputs": []
    },
    {
      "cell_type": "code",
      "metadata": {
        "id": "I8UpLxW96Wgd",
        "colab_type": "code",
        "colab": {}
      },
      "source": [
        "token = ToktokTokenizer()"
      ],
      "execution_count": 0,
      "outputs": []
    },
    {
      "cell_type": "code",
      "metadata": {
        "id": "9CsdUgNV6T8C",
        "colab_type": "code",
        "outputId": "d2402c9d-ea5f-4df6-9c9c-bcc28192cadb",
        "colab": {
          "base_uri": "https://localhost:8080/",
          "height": 34
        }
      },
      "source": [
        "punctuation"
      ],
      "execution_count": 0,
      "outputs": [
        {
          "output_type": "execute_result",
          "data": {
            "text/plain": [
              "'!\"#$%&\\'()*+,-./:;<=>?@[\\\\]^_`{|}~'"
            ]
          },
          "metadata": {
            "tags": []
          },
          "execution_count": 23
        }
      ]
    },
    {
      "cell_type": "code",
      "metadata": {
        "trusted": true,
        "id": "mJBaeJd9u6yk",
        "colab_type": "code",
        "colab": {}
      },
      "source": [
        "punct = '!\"#$%&\\'()*+,./:;<=>?@[\\\\]^_`{|}~'"
      ],
      "execution_count": 0,
      "outputs": []
    },
    {
      "cell_type": "code",
      "metadata": {
        "trusted": true,
        "id": "5WuXPPXTu6yn",
        "colab_type": "code",
        "colab": {}
      },
      "source": [
        "def strip_list_noempty(mylist):\n",
        "    newlist = (item.strip() if hasattr(item, 'strip') else item for item in mylist)\n",
        "    return [item for item in newlist if item != '']"
      ],
      "execution_count": 0,
      "outputs": []
    },
    {
      "cell_type": "code",
      "metadata": {
        "trusted": true,
        "id": "AnBQBAJ-u6yv",
        "colab_type": "code",
        "colab": {}
      },
      "source": [
        "def clean_punct(text): \n",
        "    words=token.tokenize(text)\n",
        "    punctuation_filtered = []\n",
        "    regex = re.compile('[%s]' % re.escape(punct))\n",
        "    remove_punctuation = str.maketrans(' ', ' ', punct)\n",
        "    for w in words:\n",
        "        if w in tags_features:\n",
        "            punctuation_filtered.append(w)\n",
        "        else:\n",
        "            punctuation_filtered.append(regex.sub('', w))\n",
        "  \n",
        "    filtered_list = strip_list_noempty(punctuation_filtered)\n",
        "        \n",
        "    return ' '.join(map(str, filtered_list))"
      ],
      "execution_count": 0,
      "outputs": []
    },
    {
      "cell_type": "code",
      "metadata": {
        "trusted": true,
        "id": "ZcM0Aifwu6y0",
        "colab_type": "code",
        "colab": {}
      },
      "source": [
        "new_df['Body'] = new_df['Body'].apply(lambda x: clean_punct(x)) "
      ],
      "execution_count": 0,
      "outputs": []
    },
    {
      "cell_type": "code",
      "metadata": {
        "trusted": true,
        "id": "HJ_BdDozu6y8",
        "colab_type": "code",
        "outputId": "96b31e91-f557-4bad-b330-1451c991fc39",
        "colab": {
          "base_uri": "https://localhost:8080/",
          "height": 51
        }
      },
      "source": [
        "nltk.download('stopwords')\n",
        "lemma=WordNetLemmatizer()\n",
        "stop_words = set(stopwords.words(\"english\"))"
      ],
      "execution_count": 0,
      "outputs": [
        {
          "output_type": "stream",
          "text": [
            "[nltk_data] Downloading package stopwords to /root/nltk_data...\n",
            "[nltk_data]   Unzipping corpora/stopwords.zip.\n"
          ],
          "name": "stdout"
        }
      ]
    },
    {
      "cell_type": "markdown",
      "metadata": {
        "id": "X9jcK9C0Vc0v",
        "colab_type": "text"
      },
      "source": [
        "### Lemmatization and Stopwords"
      ]
    },
    {
      "cell_type": "code",
      "metadata": {
        "trusted": true,
        "id": "YP8FbUEzu6zE",
        "colab_type": "code",
        "colab": {}
      },
      "source": [
        "def lemitizeWords(text):\n",
        "    words=token.tokenize(text)\n",
        "    listLemma=[]\n",
        "    for w in words:\n",
        "        x=lemma.lemmatize(w, pos=\"v\")\n",
        "        listLemma.append(x)\n",
        "    return ' '.join(map(str, listLemma))\n",
        "\n",
        "def stopWordsRemove(text):\n",
        "    \n",
        "    stop_words = set(stopwords.words(\"english\"))\n",
        "    \n",
        "    words=token.tokenize(text)\n",
        "    \n",
        "    filtered = [w for w in words if not w in stop_words]\n",
        "    \n",
        "    return ' '.join(map(str, filtered))"
      ],
      "execution_count": 0,
      "outputs": []
    },
    {
      "cell_type": "code",
      "metadata": {
        "trusted": true,
        "id": "XtQsXaDMu6zI",
        "colab_type": "code",
        "outputId": "8f737bb3-24a0-42c7-f226-618bfc6aae39",
        "colab": {
          "base_uri": "https://localhost:8080/",
          "height": 51
        }
      },
      "source": [
        "nltk.download('wordnet')\n",
        "new_df['Body'] = new_df['Body'].apply(lambda x: lemitizeWords(x)) \n",
        "new_df['Body'] = new_df['Body'].apply(lambda x: stopWordsRemove(x)) "
      ],
      "execution_count": 0,
      "outputs": [
        {
          "output_type": "stream",
          "text": [
            "[nltk_data] Downloading package wordnet to /root/nltk_data...\n",
            "[nltk_data]   Unzipping corpora/wordnet.zip.\n"
          ],
          "name": "stdout"
        }
      ]
    },
    {
      "cell_type": "markdown",
      "metadata": {
        "id": "45laSUBMu6zN",
        "colab_type": "text"
      },
      "source": [
        "## DataPreparation for Title"
      ]
    },
    {
      "cell_type": "code",
      "metadata": {
        "trusted": true,
        "id": "uPiHOpTru6zP",
        "colab_type": "code",
        "colab": {}
      },
      "source": [
        "new_df['Title'] = new_df['Title'].apply(lambda x: str(x))\n",
        "new_df['Title'] = new_df['Title'].apply(lambda x: clean_text(x)) \n",
        "new_df['Title'] = new_df['Title'].apply(lambda x: clean_punct(x)) \n",
        "new_df['Title'] = new_df['Title'].apply(lambda x: lemitizeWords(x)) \n",
        "new_df['Title'] = new_df['Title'].apply(lambda x: stopWordsRemove(x)) "
      ],
      "execution_count": 0,
      "outputs": []
    },
    {
      "cell_type": "code",
      "metadata": {
        "trusted": true,
        "id": "OeArO4k1u6zU",
        "colab_type": "code",
        "outputId": "e4dbfc0d-8c08-44e3-88bd-40dcbad47aec",
        "colab": {
          "base_uri": "https://localhost:8080/",
          "height": 204
        }
      },
      "source": [
        "new_df.head()"
      ],
      "execution_count": 0,
      "outputs": [
        {
          "output_type": "execute_result",
          "data": {
            "text/html": [
              "<div>\n",
              "<style scoped>\n",
              "    .dataframe tbody tr th:only-of-type {\n",
              "        vertical-align: middle;\n",
              "    }\n",
              "\n",
              "    .dataframe tbody tr th {\n",
              "        vertical-align: top;\n",
              "    }\n",
              "\n",
              "    .dataframe thead th {\n",
              "        text-align: right;\n",
              "    }\n",
              "</style>\n",
              "<table border=\"1\" class=\"dataframe\">\n",
              "  <thead>\n",
              "    <tr style=\"text-align: right;\">\n",
              "      <th></th>\n",
              "      <th>Title</th>\n",
              "      <th>Body</th>\n",
              "      <th>Tag</th>\n",
              "      <th>Tags</th>\n",
              "    </tr>\n",
              "  </thead>\n",
              "  <tbody>\n",
              "    <tr>\n",
              "      <th>1</th>\n",
              "      <td>good branch merge tutorials tortoisesvn</td>\n",
              "      <td>really good tutorials explain branch merge apa...</td>\n",
              "      <td>svn tortoisesvn branch branching-and-merging</td>\n",
              "      <td>[svn]</td>\n",
              "    </tr>\n",
              "    <tr>\n",
              "      <th>2</th>\n",
              "      <td>asp.net site map</td>\n",
              "      <td>anyone get experience create sql-based asp.net...</td>\n",
              "      <td>sql asp.net sitemap</td>\n",
              "      <td>[sql, asp.net]</td>\n",
              "    </tr>\n",
              "    <tr>\n",
              "      <th>3</th>\n",
              "      <td>function create color wheel</td>\n",
              "      <td>something pseudo-solved many time never quite ...</td>\n",
              "      <td>algorithm language-agnostic colors color-space</td>\n",
              "      <td>[algorithm]</td>\n",
              "    </tr>\n",
              "    <tr>\n",
              "      <th>4</th>\n",
              "      <td>add script functionality .net applications</td>\n",
              "      <td>little game write c use database back-end trad...</td>\n",
              "      <td>c# .net scripting compiler-construction</td>\n",
              "      <td>[c#, .net]</td>\n",
              "    </tr>\n",
              "    <tr>\n",
              "      <th>5</th>\n",
              "      <td>use nest class case</td>\n",
              "      <td>work collection class use video playback recor...</td>\n",
              "      <td>c++ oop class nested-class</td>\n",
              "      <td>[c++, oop, class]</td>\n",
              "    </tr>\n",
              "  </tbody>\n",
              "</table>\n",
              "</div>"
            ],
            "text/plain": [
              "                                        Title  ...               Tags\n",
              "1     good branch merge tutorials tortoisesvn  ...              [svn]\n",
              "2                            asp.net site map  ...     [sql, asp.net]\n",
              "3                 function create color wheel  ...        [algorithm]\n",
              "4  add script functionality .net applications  ...         [c#, .net]\n",
              "5                         use nest class case  ...  [c++, oop, class]\n",
              "\n",
              "[5 rows x 4 columns]"
            ]
          },
          "metadata": {
            "tags": []
          },
          "execution_count": 32
        }
      ]
    },
    {
      "cell_type": "markdown",
      "metadata": {
        "id": "q2uqCEcFu6zX",
        "colab_type": "text"
      },
      "source": [
        "## Data preparation for tags"
      ]
    },
    {
      "cell_type": "code",
      "metadata": {
        "trusted": true,
        "id": "RMIGjdbcu6zZ",
        "colab_type": "code",
        "colab": {}
      },
      "source": [
        "X1 = new_df['Body']+' '+new_df['Title']\n",
        "X2 = new_df['Title']\n",
        "y = new_df['Tags']"
      ],
      "execution_count": 0,
      "outputs": []
    },
    {
      "cell_type": "code",
      "metadata": {
        "trusted": true,
        "id": "xGUnVjseu6zc",
        "colab_type": "code",
        "outputId": "c26b11db-8192-4440-f97e-b4342ac67eb5",
        "colab": {
          "base_uri": "https://localhost:8080/",
          "height": 54
        }
      },
      "source": [
        "X1[4]"
      ],
      "execution_count": 0,
      "outputs": [
        {
          "output_type": "execute_result",
          "data": {
            "text/plain": [
              "'little game write c use database back-end trade card game want implement function card script mean essentially interface icard card class implement public class card056 icard contain function call game make thing maintainablemoddable would like class card source code database essentially compile first use addchange card add database tell application refresh without need assembly deployment especially since would talk 1 assembly per card mean hundreds assemblies possible register class source file instantiate etc icard card current new mygamecardlibrarycard056 card current onenterplay ref currentgamestate language c# extra bonus possible write script .net language add script functionality .net applications'"
            ]
          },
          "metadata": {
            "tags": []
          },
          "execution_count": 34
        }
      ]
    },
    {
      "cell_type": "code",
      "metadata": {
        "id": "do3Olb8e2UZv",
        "colab_type": "code",
        "outputId": "6f15edc1-cdcb-48cb-a59b-d7b32617e890",
        "colab": {
          "base_uri": "https://localhost:8080/",
          "height": 34
        }
      },
      "source": [
        "X2[4]"
      ],
      "execution_count": 0,
      "outputs": [
        {
          "output_type": "execute_result",
          "data": {
            "text/plain": [
              "'add script functionality .net applications'"
            ]
          },
          "metadata": {
            "tags": []
          },
          "execution_count": 35
        }
      ]
    },
    {
      "cell_type": "code",
      "metadata": {
        "trusted": true,
        "id": "zhAJ8c_3u6zm",
        "colab_type": "code",
        "colab": {}
      },
      "source": [
        "multilabel_binarizer = MultiLabelBinarizer()\n",
        "y_bin = multilabel_binarizer.fit_transform(y)"
      ],
      "execution_count": 0,
      "outputs": []
    },
    {
      "cell_type": "code",
      "metadata": {
        "trusted": true,
        "id": "O37T8lcXu6zp",
        "colab_type": "code",
        "outputId": "8904d458-bf69-4dd8-f1b0-883fea097d7b",
        "colab": {
          "base_uri": "https://localhost:8080/",
          "height": 34
        }
      },
      "source": [
        "X1.shape"
      ],
      "execution_count": 0,
      "outputs": [
        {
          "output_type": "execute_result",
          "data": {
            "text/plain": [
              "(63167,)"
            ]
          },
          "metadata": {
            "tags": []
          },
          "execution_count": 37
        }
      ]
    },
    {
      "cell_type": "code",
      "metadata": {
        "id": "OdC4ESoGWEGM",
        "colab_type": "code",
        "colab": {}
      },
      "source": [
        ""
      ],
      "execution_count": 0,
      "outputs": []
    },
    {
      "cell_type": "markdown",
      "metadata": {
        "id": "MyL4KeLMWGGK",
        "colab_type": "text"
      },
      "source": [
        "## Creating Features from Text"
      ]
    },
    {
      "cell_type": "code",
      "metadata": {
        "id": "kRHs61HTu6zr",
        "colab_type": "code",
        "outputId": "3bebdcd5-4dc5-4631-a003-df4311f5f596",
        "colab": {
          "base_uri": "https://localhost:8080/",
          "height": 34
        }
      },
      "source": [
        "from keras.preprocessing.sequence import pad_sequences\n",
        "from keras.preprocessing.text import Tokenizer"
      ],
      "execution_count": 0,
      "outputs": [
        {
          "output_type": "stream",
          "text": [
            "Using TensorFlow backend.\n"
          ],
          "name": "stderr"
        }
      ]
    },
    {
      "cell_type": "code",
      "metadata": {
        "id": "UHkxnM0b8W4v",
        "colab_type": "code",
        "colab": {}
      },
      "source": [
        "maxlen = 180"
      ],
      "execution_count": 0,
      "outputs": []
    },
    {
      "cell_type": "code",
      "metadata": {
        "trusted": true,
        "id": "eyfefr54u6z6",
        "colab_type": "code",
        "colab": {}
      },
      "source": [
        "\n",
        "max_words = 5000\n",
        "tokenizer = Tokenizer(num_words=max_words, lower=True)\n",
        "tokenizer.fit_on_texts(X1)\n",
        "#tokenizer.fit_on_texts(df_questions.Title)\n",
        "#tokenizer.fit_on_texts(df_questions.Body)\n",
        "\n",
        "def get_features(text_series):\n",
        "    \"\"\"\n",
        "    transforms text data to feature_vectors that can be used in the ml model.\n",
        "    tokenizer must be available.\n",
        "    \"\"\"\n",
        "    sequences = tokenizer.texts_to_sequences(text_series)\n",
        "    return pad_sequences(sequences, maxlen=maxlen)\n"
      ],
      "execution_count": 0,
      "outputs": []
    },
    {
      "cell_type": "code",
      "metadata": {
        "id": "BpPDeAbizqeH",
        "colab_type": "code",
        "colab": {}
      },
      "source": [
        "def prediction_to_label(prediction):\n",
        "    tag_prob = [(tags_features[i], prob) for i, prob in enumerate(prediction.tolist())]\n",
        "    return dict(sorted(tag_prob, key=lambda kv: kv[1], reverse=True))"
      ],
      "execution_count": 0,
      "outputs": []
    },
    {
      "cell_type": "code",
      "metadata": {
        "trusted": true,
        "id": "ZrTYMdtCu60E",
        "colab_type": "code",
        "colab": {}
      },
      "source": [
        "x1 = get_features(X1)\n"
      ],
      "execution_count": 0,
      "outputs": []
    },
    {
      "cell_type": "code",
      "metadata": {
        "id": "0RJnlrHXJR_3",
        "colab_type": "code",
        "outputId": "832d1272-fa51-4a1a-a0cd-37f9a8d12977",
        "colab": {
          "base_uri": "https://localhost:8080/",
          "height": 34
        }
      },
      "source": [
        "x1.shape"
      ],
      "execution_count": 0,
      "outputs": [
        {
          "output_type": "execute_result",
          "data": {
            "text/plain": [
              "(63167, 180)"
            ]
          },
          "metadata": {
            "tags": []
          },
          "execution_count": 43
        }
      ]
    },
    {
      "cell_type": "code",
      "metadata": {
        "id": "RBuh3pYDMF_W",
        "colab_type": "code",
        "outputId": "ce7b7c0f-36df-49fb-a4f5-fc67ed634d2c",
        "colab": {
          "base_uri": "https://localhost:8080/",
          "height": 34
        }
      },
      "source": [
        "y_bin.shape"
      ],
      "execution_count": 0,
      "outputs": [
        {
          "output_type": "execute_result",
          "data": {
            "text/plain": [
              "(63167, 100)"
            ]
          },
          "metadata": {
            "tags": []
          },
          "execution_count": 44
        }
      ]
    },
    {
      "cell_type": "code",
      "metadata": {
        "trusted": true,
        "id": "GAPjbOGju60M",
        "colab_type": "code",
        "colab": {}
      },
      "source": [
        "X_train, X_test, y_train, y_test = train_test_split(x1, y_bin, test_size = 0.1, \n",
        "                                                    random_state = 0) \n"
      ],
      "execution_count": 0,
      "outputs": []
    },
    {
      "cell_type": "code",
      "metadata": {
        "id": "y7Y0-T9wWM7S",
        "colab_type": "code",
        "colab": {}
      },
      "source": [
        ""
      ],
      "execution_count": 0,
      "outputs": []
    },
    {
      "cell_type": "markdown",
      "metadata": {
        "id": "FiszSSX6WNtP",
        "colab_type": "text"
      },
      "source": [
        "## Evaluation metrics Average Jacard loss"
      ]
    },
    {
      "cell_type": "code",
      "metadata": {
        "trusted": true,
        "id": "Lu5suv_6u60Q",
        "colab_type": "code",
        "colab": {}
      },
      "source": [
        "def avg_jacard(y_true,y_pred):\n",
        "    '''\n",
        "    see https://en.wikipedia.org/wiki/Multi-label_classification#Statistics_and_evaluation_metrics\n",
        "    '''\n",
        "    jacard = np.minimum(y_true,y_pred).sum(axis=1) / np.maximum(y_true,y_pred).sum(axis=1)\n",
        "    \n",
        "    return jacard.mean()*100\n",
        "\n",
        "def print_score(y_pred, clf):\n",
        "    print(\"Clf: \", clf.__class__.__name__)\n",
        "    print(\"Jacard score: {}\".format(avg_jacard(y_test, y_pred)))\n",
        "    print(\"Hamming loss: {}\".format(hamming_loss(y_pred, y_test)*100))\n",
        "    print(\"---\")    "
      ],
      "execution_count": 0,
      "outputs": []
    },
    {
      "cell_type": "code",
      "metadata": {
        "id": "cEkvwwNDPTnO",
        "colab_type": "code",
        "outputId": "5cf5b928-ec21-4ceb-f80a-3b8de2243c7d",
        "colab": {
          "base_uri": "https://localhost:8080/",
          "height": 34
        }
      },
      "source": [
        "len(flat_list), len(set(flat_list))"
      ],
      "execution_count": 0,
      "outputs": [
        {
          "output_type": "execute_result",
          "data": {
            "text/plain": [
              "(224129, 14883)"
            ]
          },
          "metadata": {
            "tags": []
          },
          "execution_count": 47
        }
      ]
    },
    {
      "cell_type": "code",
      "metadata": {
        "id": "vPJGD0bmWt4O",
        "colab_type": "code",
        "colab": {}
      },
      "source": [
        ""
      ],
      "execution_count": 0,
      "outputs": []
    },
    {
      "cell_type": "markdown",
      "metadata": {
        "id": "aZvjsQUZWuho",
        "colab_type": "text"
      },
      "source": [
        "## Calculating weights for labels"
      ]
    },
    {
      "cell_type": "code",
      "metadata": {
        "trusted": true,
        "id": "hMXB3rA6u60V",
        "colab_type": "code",
        "colab": {}
      },
      "source": [
        "class_weight = class_weight.compute_class_weight('balanced', tags_features, [i for i in flat_list if i in tags_features])\n",
        "class_weight_dict = dict(enumerate(class_weight))\n"
      ],
      "execution_count": 0,
      "outputs": []
    },
    {
      "cell_type": "code",
      "metadata": {
        "id": "l3zmzoNnWy4c",
        "colab_type": "code",
        "colab": {}
      },
      "source": [
        ""
      ],
      "execution_count": 0,
      "outputs": []
    },
    {
      "cell_type": "markdown",
      "metadata": {
        "id": "XnUfn4odWzvn",
        "colab_type": "text"
      },
      "source": [
        "## Keras Model"
      ]
    },
    {
      "cell_type": "code",
      "metadata": {
        "trusted": true,
        "id": "lIIgs8OQu60Y",
        "colab_type": "code",
        "outputId": "640c3f7d-8709-44b3-a23d-09b58c9e906f",
        "colab": {
          "base_uri": "https://localhost:8080/",
          "height": 343
        }
      },
      "source": [
        "from keras.models import Sequential\n",
        "from keras.layers import Dense, Activation, Embedding, Flatten, GlobalMaxPool1D, Dropout, Conv1D\n",
        "from keras.layers import LSTM, Activation, Dense, Dropout, Input, Embedding\n",
        "from keras.callbacks import ReduceLROnPlateau, EarlyStopping, ModelCheckpoint\n",
        "from keras.losses import binary_crossentropy\n",
        "from keras.optimizers import Adam\n",
        "from keras.models import Model\n",
        "\n",
        "filter_length = 300\n",
        "max_len = 180\n",
        "\n",
        "def RNN():\n",
        "    inputs = Input(name='inputs', shape=[max_len])\n",
        "    layer = Embedding(max_words, 30, input_length=max_len)(inputs)\n",
        "    layer = LSTM(300)(layer)\n",
        "    layer = Dense(500, name='FC1')(layer)\n",
        "    layer = Activation('relu')(layer)\n",
        "    layer = Dropout(0.2)(layer)\n",
        "    layer = Dense(200, name='FC2')(layer)\n",
        "    layer = Activation('relu')(layer)\n",
        "    layer = Dropout(0.2)(layer)\n",
        "    layer = Dense(100, name='out_layer')(layer)\n",
        "    layer = Activation('sigmoid')(layer)\n",
        "    model = Model(inputs=inputs, outputs=layer)\n",
        "    return model\n",
        "  \n",
        "model = RNN()\n",
        "model.compile(optimizer='adam', loss='binary_crossentropy', metrics=['accuracy'])\n",
        "#model.summary()\n",
        "\n"
      ],
      "execution_count": 0,
      "outputs": [
        {
          "output_type": "stream",
          "text": [
            "WARNING:tensorflow:From /usr/local/lib/python3.6/dist-packages/keras/backend/tensorflow_backend.py:541: The name tf.placeholder is deprecated. Please use tf.compat.v1.placeholder instead.\n",
            "\n",
            "WARNING:tensorflow:From /usr/local/lib/python3.6/dist-packages/keras/backend/tensorflow_backend.py:66: The name tf.get_default_graph is deprecated. Please use tf.compat.v1.get_default_graph instead.\n",
            "\n",
            "WARNING:tensorflow:From /usr/local/lib/python3.6/dist-packages/keras/backend/tensorflow_backend.py:4432: The name tf.random_uniform is deprecated. Please use tf.random.uniform instead.\n",
            "\n",
            "WARNING:tensorflow:From /usr/local/lib/python3.6/dist-packages/keras/backend/tensorflow_backend.py:148: The name tf.placeholder_with_default is deprecated. Please use tf.compat.v1.placeholder_with_default instead.\n",
            "\n",
            "WARNING:tensorflow:From /usr/local/lib/python3.6/dist-packages/keras/backend/tensorflow_backend.py:3733: calling dropout (from tensorflow.python.ops.nn_ops) with keep_prob is deprecated and will be removed in a future version.\n",
            "Instructions for updating:\n",
            "Please use `rate` instead of `keep_prob`. Rate should be set to `rate = 1 - keep_prob`.\n",
            "WARNING:tensorflow:From /usr/local/lib/python3.6/dist-packages/keras/optimizers.py:793: The name tf.train.Optimizer is deprecated. Please use tf.compat.v1.train.Optimizer instead.\n",
            "\n",
            "WARNING:tensorflow:From /usr/local/lib/python3.6/dist-packages/keras/backend/tensorflow_backend.py:3657: The name tf.log is deprecated. Please use tf.math.log instead.\n",
            "\n",
            "WARNING:tensorflow:From /usr/local/lib/python3.6/dist-packages/tensorflow_core/python/ops/nn_impl.py:183: where (from tensorflow.python.ops.array_ops) is deprecated and will be removed in a future version.\n",
            "Instructions for updating:\n",
            "Use tf.where in 2.0, which has the same broadcast rule as np.where\n"
          ],
          "name": "stdout"
        }
      ]
    },
    {
      "cell_type": "code",
      "metadata": {
        "id": "VMhMVDa3Q_Bk",
        "colab_type": "code",
        "outputId": "2c417d51-6e4c-4394-fa31-b7c11766a37c",
        "colab": {
          "base_uri": "https://localhost:8080/",
          "height": 768
        }
      },
      "source": [
        "import time\n",
        "\n",
        "filepath = '/content/gdrive/My Drive/model-stackoverflow.h5'\n",
        "callbacks = [\n",
        "    ReduceLROnPlateau(), \n",
        "    EarlyStopping(patience=4), \n",
        "    ModelCheckpoint(filepath, monitor='val_acc', verbose=1, \n",
        "                    save_weights_only=True, \n",
        "                    mode='auto', period=10, save_best_only=False)\n",
        "            ]\n",
        "\n",
        "history = model.fit(X_train, y_train,\n",
        "                    class_weight=class_weight,\n",
        "                    epochs=12,\n",
        "                    batch_size=30,\n",
        "                    validation_split=0.1,\n",
        "                    callbacks=callbacks)"
      ],
      "execution_count": 0,
      "outputs": [
        {
          "output_type": "stream",
          "text": [
            "WARNING:tensorflow:From /usr/local/lib/python3.6/dist-packages/keras/backend/tensorflow_backend.py:1033: The name tf.assign_add is deprecated. Please use tf.compat.v1.assign_add instead.\n",
            "\n",
            "WARNING:tensorflow:From /usr/local/lib/python3.6/dist-packages/keras/backend/tensorflow_backend.py:1020: The name tf.assign is deprecated. Please use tf.compat.v1.assign instead.\n",
            "\n",
            "WARNING:tensorflow:From /usr/local/lib/python3.6/dist-packages/keras/backend/tensorflow_backend.py:3005: The name tf.Session is deprecated. Please use tf.compat.v1.Session instead.\n",
            "\n",
            "Train on 51165 samples, validate on 5685 samples\n",
            "Epoch 1/12\n",
            "WARNING:tensorflow:From /usr/local/lib/python3.6/dist-packages/keras/backend/tensorflow_backend.py:190: The name tf.get_default_session is deprecated. Please use tf.compat.v1.get_default_session instead.\n",
            "\n",
            "WARNING:tensorflow:From /usr/local/lib/python3.6/dist-packages/keras/backend/tensorflow_backend.py:197: The name tf.ConfigProto is deprecated. Please use tf.compat.v1.ConfigProto instead.\n",
            "\n",
            "WARNING:tensorflow:From /usr/local/lib/python3.6/dist-packages/keras/backend/tensorflow_backend.py:207: The name tf.global_variables is deprecated. Please use tf.compat.v1.global_variables instead.\n",
            "\n",
            "WARNING:tensorflow:From /usr/local/lib/python3.6/dist-packages/keras/backend/tensorflow_backend.py:216: The name tf.is_variable_initialized is deprecated. Please use tf.compat.v1.is_variable_initialized instead.\n",
            "\n",
            "WARNING:tensorflow:From /usr/local/lib/python3.6/dist-packages/keras/backend/tensorflow_backend.py:223: The name tf.variables_initializer is deprecated. Please use tf.compat.v1.variables_initializer instead.\n",
            "\n",
            "51165/51165 [==============================] - 602s 12ms/step - loss: 0.0751 - acc: 0.9838 - val_loss: 0.0582 - val_acc: 0.9856\n",
            "Epoch 2/12\n",
            "51165/51165 [==============================] - 590s 12ms/step - loss: 0.0495 - acc: 0.9868 - val_loss: 0.0401 - val_acc: 0.9881\n",
            "Epoch 3/12\n",
            "51165/51165 [==============================] - 585s 11ms/step - loss: 0.0373 - acc: 0.9889 - val_loss: 0.0338 - val_acc: 0.9897\n",
            "Epoch 4/12\n",
            "51165/51165 [==============================] - 590s 12ms/step - loss: 0.0325 - acc: 0.9900 - val_loss: 0.0314 - val_acc: 0.9903\n",
            "Epoch 5/12\n",
            "51165/51165 [==============================] - 593s 12ms/step - loss: 0.0298 - acc: 0.9906 - val_loss: 0.0301 - val_acc: 0.9907\n",
            "Epoch 6/12\n",
            "51165/51165 [==============================] - 583s 11ms/step - loss: 0.0279 - acc: 0.9910 - val_loss: 0.0291 - val_acc: 0.9908\n",
            "Epoch 7/12\n",
            "51165/51165 [==============================] - 582s 11ms/step - loss: 0.0263 - acc: 0.9914 - val_loss: 0.0289 - val_acc: 0.9909\n",
            "Epoch 8/12\n",
            "51165/51165 [==============================] - 588s 11ms/step - loss: 0.0250 - acc: 0.9917 - val_loss: 0.0287 - val_acc: 0.9910\n",
            "Epoch 9/12\n",
            "51165/51165 [==============================] - 588s 11ms/step - loss: 0.0238 - acc: 0.9919 - val_loss: 0.0288 - val_acc: 0.9910\n",
            "Epoch 10/12\n",
            "51165/51165 [==============================] - 581s 11ms/step - loss: 0.0227 - acc: 0.9922 - val_loss: 0.0292 - val_acc: 0.9910\n",
            "\n",
            "Epoch 00010: saving model to /content/gdrive/My Drive/model-stackoverflow.h5\n",
            "Epoch 11/12\n",
            "51165/51165 [==============================] - 585s 11ms/step - loss: 0.0216 - acc: 0.9924 - val_loss: 0.0296 - val_acc: 0.9911\n",
            "Epoch 12/12\n",
            "51165/51165 [==============================] - 582s 11ms/step - loss: 0.0206 - acc: 0.9927 - val_loss: 0.0310 - val_acc: 0.9909\n"
          ],
          "name": "stdout"
        }
      ]
    },
    {
      "cell_type": "code",
      "metadata": {
        "id": "XoidfxyFkGWi",
        "colab_type": "code",
        "colab": {}
      },
      "source": [
        "model.save_weights(\"/content/gdrive/My Drive/model-stackoverflow13Nov.h5\")"
      ],
      "execution_count": 0,
      "outputs": []
    },
    {
      "cell_type": "code",
      "metadata": {
        "id": "XzvdAZdvB0bX",
        "colab_type": "code",
        "colab": {}
      },
      "source": [
        "#model.load_weights('model-stackoverflow13Nov.h5')"
      ],
      "execution_count": 0,
      "outputs": []
    },
    {
      "cell_type": "markdown",
      "metadata": {
        "id": "s-TfG15RKxas",
        "colab_type": "text"
      },
      "source": [
        ""
      ]
    },
    {
      "cell_type": "code",
      "metadata": {
        "id": "iSIwAQgk9tHr",
        "colab_type": "code",
        "outputId": "5c613b07-cd2a-47b5-cec0-4437cf02e40b",
        "colab": {
          "base_uri": "https://localhost:8080/",
          "height": 68
        }
      },
      "source": [
        "\n",
        "\n",
        "#cnn_model = keras.models.load_model('model-stackoverflow.h5')\n",
        "metrics = model.evaluate(X_test, y_test)\n",
        "print(\"{}: {}\".format(model.metrics_names[0], metrics[0]))\n",
        "print(\"{}: {}\".format(model.metrics_names[1], metrics[1]))"
      ],
      "execution_count": 0,
      "outputs": [
        {
          "output_type": "stream",
          "text": [
            "6317/6317 [==============================] - 22s 4ms/step\n",
            "loss: 0.030487704828372104\n",
            "acc: 0.9907266205391666\n"
          ],
          "name": "stdout"
        }
      ]
    },
    {
      "cell_type": "code",
      "metadata": {
        "id": "9vBmd2JBXC-O",
        "colab_type": "code",
        "colab": {}
      },
      "source": [
        ""
      ],
      "execution_count": 0,
      "outputs": []
    },
    {
      "cell_type": "markdown",
      "metadata": {
        "id": "OIRz1O75XN1p",
        "colab_type": "text"
      },
      "source": [
        "## Predicting on Test split"
      ]
    },
    {
      "cell_type": "code",
      "metadata": {
        "id": "_VsordZOav3A",
        "colab_type": "code",
        "colab": {}
      },
      "source": [
        "new_df.reset_index(inplace=True)"
      ],
      "execution_count": 0,
      "outputs": []
    },
    {
      "cell_type": "code",
      "metadata": {
        "id": "ajCHHcIdXca7",
        "colab_type": "code",
        "outputId": "9f776118-5e4b-47bc-8531-78176d4355c1",
        "colab": {
          "base_uri": "https://localhost:8080/",
          "height": 34
        }
      },
      "source": [
        "X_test.shape"
      ],
      "execution_count": 0,
      "outputs": [
        {
          "output_type": "execute_result",
          "data": {
            "text/plain": [
              "(6317, 180)"
            ]
          },
          "metadata": {
            "tags": []
          },
          "execution_count": 55
        }
      ]
    },
    {
      "cell_type": "code",
      "metadata": {
        "id": "Op6c5Vm-dJra",
        "colab_type": "code",
        "colab": {}
      },
      "source": [
        "s=101\n",
        "z = X_test[s].reshape(1 ,180)"
      ],
      "execution_count": 0,
      "outputs": []
    },
    {
      "cell_type": "code",
      "metadata": {
        "id": "Mz1D7rHAdBLJ",
        "colab_type": "code",
        "colab": {}
      },
      "source": [
        "l = model.predict(z).reshape(100, )\n",
        "p1 = prediction_to_label(l)\n",
        "df = pd.DataFrame()\n",
        "df['label'] = p1.keys()\n",
        "df['probability'] = p1.values()"
      ],
      "execution_count": 0,
      "outputs": []
    },
    {
      "cell_type": "code",
      "metadata": {
        "id": "c-pv5QG6HMhi",
        "colab_type": "code",
        "outputId": "0a4ceeb4-f09b-4af9-b428-19b1cf1cb590",
        "colab": {
          "base_uri": "https://localhost:8080/",
          "height": 376
        }
      },
      "source": [
        "#print(y_test[s],tags_features[list(y_test[s]).index(1)])\n",
        "c=[i for i,j in enumerate (y_test[s]) if j==1]\n",
        "print('actual tags ', [tags_features[i] for i in c])\n",
        "df.head(10)"
      ],
      "execution_count": 0,
      "outputs": [
        {
          "output_type": "stream",
          "text": [
            "actual tags  ['database', 'linq']\n"
          ],
          "name": "stdout"
        },
        {
          "output_type": "execute_result",
          "data": {
            "text/html": [
              "<div>\n",
              "<style scoped>\n",
              "    .dataframe tbody tr th:only-of-type {\n",
              "        vertical-align: middle;\n",
              "    }\n",
              "\n",
              "    .dataframe tbody tr th {\n",
              "        vertical-align: top;\n",
              "    }\n",
              "\n",
              "    .dataframe thead th {\n",
              "        text-align: right;\n",
              "    }\n",
              "</style>\n",
              "<table border=\"1\" class=\"dataframe\">\n",
              "  <thead>\n",
              "    <tr style=\"text-align: right;\">\n",
              "      <th></th>\n",
              "      <th>label</th>\n",
              "      <th>probability</th>\n",
              "    </tr>\n",
              "  </thead>\n",
              "  <tbody>\n",
              "    <tr>\n",
              "      <th>0</th>\n",
              "      <td>linq</td>\n",
              "      <td>0.784859</td>\n",
              "    </tr>\n",
              "    <tr>\n",
              "      <th>1</th>\n",
              "      <td>database</td>\n",
              "      <td>0.366803</td>\n",
              "    </tr>\n",
              "    <tr>\n",
              "      <th>2</th>\n",
              "      <td>c</td>\n",
              "      <td>0.322816</td>\n",
              "    </tr>\n",
              "    <tr>\n",
              "      <th>3</th>\n",
              "      <td>c#</td>\n",
              "      <td>0.092800</td>\n",
              "    </tr>\n",
              "    <tr>\n",
              "      <th>4</th>\n",
              "      <td>algorithm</td>\n",
              "      <td>0.030599</td>\n",
              "    </tr>\n",
              "    <tr>\n",
              "      <th>5</th>\n",
              "      <td>iphone</td>\n",
              "      <td>0.027242</td>\n",
              "    </tr>\n",
              "    <tr>\n",
              "      <th>6</th>\n",
              "      <td>mongodb</td>\n",
              "      <td>0.023946</td>\n",
              "    </tr>\n",
              "    <tr>\n",
              "      <th>7</th>\n",
              "      <td>ruby-on-rails</td>\n",
              "      <td>0.012027</td>\n",
              "    </tr>\n",
              "    <tr>\n",
              "      <th>8</th>\n",
              "      <td>android</td>\n",
              "      <td>0.010132</td>\n",
              "    </tr>\n",
              "    <tr>\n",
              "      <th>9</th>\n",
              "      <td>wpf</td>\n",
              "      <td>0.009588</td>\n",
              "    </tr>\n",
              "  </tbody>\n",
              "</table>\n",
              "</div>"
            ],
            "text/plain": [
              "           label  probability\n",
              "0           linq     0.784859\n",
              "1       database     0.366803\n",
              "2              c     0.322816\n",
              "3             c#     0.092800\n",
              "4      algorithm     0.030599\n",
              "5         iphone     0.027242\n",
              "6        mongodb     0.023946\n",
              "7  ruby-on-rails     0.012027\n",
              "8        android     0.010132\n",
              "9            wpf     0.009588"
            ]
          },
          "metadata": {
            "tags": []
          },
          "execution_count": 76
        }
      ]
    },
    {
      "cell_type": "code",
      "metadata": {
        "id": "1IgCu6JoEEDg",
        "colab_type": "code",
        "outputId": "77be8b54-10d8-4410-dce4-a0735f77f826",
        "colab": {
          "base_uri": "https://localhost:8080/",
          "height": 34
        }
      },
      "source": [
        "np.where(df['label'] == 'cocoa-touch')  # to check position of tag if not present in top 10"
      ],
      "execution_count": 0,
      "outputs": [
        {
          "output_type": "execute_result",
          "data": {
            "text/plain": [
              "(array([28]),)"
            ]
          },
          "metadata": {
            "tags": []
          },
          "execution_count": 77
        }
      ]
    },
    {
      "cell_type": "code",
      "metadata": {
        "id": "9zglJMNqrF0F",
        "colab_type": "code",
        "colab": {}
      },
      "source": [
        ""
      ],
      "execution_count": 0,
      "outputs": []
    }
  ]
}